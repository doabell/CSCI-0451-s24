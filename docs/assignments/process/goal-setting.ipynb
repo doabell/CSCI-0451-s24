{
 "cells": [
  {
   "cell_type": "raw",
   "metadata": {},
   "source": [
    "---\n",
    "title: \"Goal-Setting\"\n",
    "type: \"Reflection\"\n",
    "date: 2023-02-14\n",
    "description: |\n",
    "    We plan our goals for learning, engagement, and achievement over the course of the semester. \n",
    "objectives: \n",
    "  - Reflection\n",
    "---"
   ]
  },
  {
   "attachments": {},
   "cell_type": "markdown",
   "metadata": {},
   "source": [
    "*To begin this reflection, download this notebook and open it in an editor of your choice.*"
   ]
  }
 ],
 "metadata": {
  "kernelspec": {
   "display_name": "Python 3",
   "language": "python",
   "name": "python3"
  },
  "language_info": {
   "name": "python",
   "version": "3.10.9 (main, Dec 15 2022, 10:44:50) [Clang 14.0.0 (clang-1400.0.29.202)]"
  },
  "orig_nbformat": 4,
  "vscode": {
   "interpreter": {
    "hash": "b0fa6594d8f4cbf19f97940f81e996739fb7646882a419484c72d19e05852a7e"
   }
  }
 },
 "nbformat": 4,
 "nbformat_minor": 2
}
