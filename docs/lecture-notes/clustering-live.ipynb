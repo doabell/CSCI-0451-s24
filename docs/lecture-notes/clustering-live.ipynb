{
  "cells": [
    {
      "cell_type": "code",
      "execution_count": null,
      "metadata": {},
      "outputs": [],
      "source": [
        "from sklearn.datasets import make_blobs, make_circles\n",
        "from matplotlib import pyplot as plt\n",
        "import numpy as np\n",
        "np.random.seed(12345)\n",
        "\n",
        "fig, ax = plt.subplots(1, figsize = (4, 4))\n",
        "X, y = make_blobs(n_samples=100, n_features=2, \n",
        "                                centers=2, random_state=1)\n",
        "\n",
        "a = ax.scatter(X[:, 0], X[:, 1])\n",
        "a = ax.set(xlabel = \"Feature 1\", ylabel = \"Feature 2\")"
      ]
    },
    {
      "cell_type": "markdown",
      "metadata": {},
      "source": [
        "This data looks a lot like the kind of data that we used for classification. This time, however, we **ignore $\\vy$** (imagine our data didn't come with any labels). We can still look at the plot and see that it apparently contains two groups or \"clusters\" of data. The **clustering** task is identify clusters that \"fit\" the data well, according to some criterion of \"fit.\" The k-means algorithm is one algorithm that attempts to perform this task. On this particular data, k-means does pretty well: "
      ]
    },
    {
      "cell_type": "code",
      "execution_count": null,
      "metadata": {},
      "outputs": [],
      "source": [
        "from sklearn.cluster import KMeans\n",
        "\n",
        "km = KMeans(n_clusters = 2)\n",
        "km.fit(X)                    # NOTE: fit does not use y!! \n",
        "\n",
        "clusters = km.predict(X)\n",
        "\n",
        "fig, ax = plt.subplots(1, figsize = (4, 4))\n",
        "a = ax.scatter(X[:, 0], X[:, 1], c = clusters, cmap = plt.cm.cividis)\n",
        "a = ax.set(xlabel = \"Feature 1\", ylabel = \"Feature 2\")"
      ]
    },
    {
      "cell_type": "markdown",
      "metadata": {},
      "source": [
        "Note that what \"pretty well\" means here is subjective; because we don't have any labels $\\vy$, we can't say that the clustering found by the model is \"good\" according to any objective criterion. Often we just have to eyeball the groups, or attempt to interpret them based on some prior knowledge we might have about the data. \n",
        "\n",
        "## K-Means Clustering\n",
        "\n",
        "In the k-means algorithm, we divide the data into clusters by finding a *cluster centroid* for each. The centroid is the mean feature value in each cluster, and gives a summary of the location of the cluster. Suppose we have $\\ell$ clusters, and let $\\vm_j \\in \\R^p$, $j = 1,\\ldots,\\ell$ be the proposed cluster centroids, which we can collect into a matrix $\\mM \\in \\R^{\\ell \\times p}$. To associate each data point $\\vx_i$ to a cluster centroid $\\vm_j$, we also posit a vector $\\vz \\in [\\ell]^n$ of cluster labels, one for each point. If $z_i = j$, this says that \"point $i$ belongs to cluster $j$.\"[The label vector $\\vz$ might look superficially similar to the target vector $\\vy$ in classification problems. The difference here is that we are free to set $\\vz$ as part of the learning process.]{.aside} \n",
        "\n",
        "Our aim is to find the cluster centroids $\\vm_j$, $j = 1,\\ldots, \\ell$ and labels $\\vz$ that separate the data \"well.\" What does \"well\" mean? As usual, in order to define this, we need to define a loss function. We're outside our usual supervised framework, so we need our loss function to come from a different place. The standard loss function for k-means comes from a simple intuition: a good clustering is one in which the points in each group are close to their group centroid. This leads us to the problem \n",
        "\n",
        "[In this optimization, we we assume that $\\mM \\in \\R^{\\ell \\times p}$. The problem of how to choose a good value of $\\ell$, the number of clusters, is a more challenging one that we won't discuss in this course.]{.aside}\n",
        "$$\n",
        "\\hat{\\mM}, \\hat{\\vz} = \\argmin_{\\mM,\\;\\vz} \\sum_{i = 1}^n \\norm{\\vx_i - \\vm_{z_i}}^2\\;.\n",
        "$${#eq-k-means-objective}\n",
        "\n",
        "This is a nice mathematical formulation with a deep, dark secret: it's not convex! This means that we can't expect to find the \"best\" $\\hat{\\mM}$ and $\\hat{\\vz}$; we can only find \"pretty good ones,\" where \"pretty good\" means \"locally optimal.\" There's a beautifully simple algorithm that we can use to perform this task: "
      ]
    },
    {
      "cell_type": "code",
      "execution_count": null,
      "metadata": {},
      "outputs": [],
      "source": [
        "import numpy as np\n",
        "from sklearn.metrics import pairwise_distances\n",
        "\n",
        "def k_means_step(X, M, z):\n",
        "    # compute the distances between all points and all centroids\n",
        "    D = pairwise_distances(X, M)\n",
        "    # each point's new group is its closest centroid\n",
        "    z = np.argmin(D, axis = 1)\n",
        "    # each centroid's new value is the mean of all the points in its group\n",
        "    \n",
        "    for j in range(M.shape[0]):\n",
        "        M[j,:] = X[z == j].mean(axis = 0)\n",
        "        \n",
        "    return M, z\n",
        "\n",
        "def k_means(X, ell):\n",
        "\n",
        "    # random initialization\n",
        "    n, p = X.shape\n",
        "    M = np.random.rand(ell, p)\n",
        "    z_prev = np.random.randint(0, ell, n)\n",
        "    done = False\n",
        "\n",
        "    # do k_means_step until z stops changing\n",
        "    while not done: \n",
        "        M, z = k_means_step(X, M, z_prev)\n",
        "        if np.all(z_prev == z):\n",
        "            done = True\n",
        "        z_prev = z\n",
        "    \n",
        "    # return the centroid matrix and cluster labels\n",
        "    return M, z"
      ]
    },
    {
      "cell_type": "markdown",
      "metadata": {},
      "source": [
        "Let's run this algorithm and plot the results. \n"
      ]
    },
    {
      "cell_type": "code",
      "execution_count": null,
      "metadata": {},
      "outputs": [],
      "source": [
        "#| fig-cap: Original data is shown in blue and yellow according to the cluster learned via the k-means algorithm. Centroids of each cluster are shown in black. \n",
        "\n",
        "M, z = k_means(X, 2)\n",
        "\n",
        "fig, ax = plt.subplots(1, figsize = (4, 4))\n",
        "a = ax.scatter(X[:, 0], X[:, 1], c = z, alpha = 0.4, cmap = plt.cm.cividis)\n",
        "a = ax.set(xlabel = \"Feature 1\", ylabel = \"Feature 2\")\n",
        "\n",
        "ax.scatter(M[:,0], M[:,1], s = 50, color = \"black\")"
      ]
    },
    {
      "cell_type": "markdown",
      "metadata": {},
      "source": [
        "[The implementation of the algorithm above doesn't handle an important issue: if one of the centroids is far away from *all* of the clusters and therefore gets no points assigned to it. This leads to errors because it's impossible to compute a centroid $\\vm$ for those clusters. A complete implementation would need to handle this issue, but we won't worry about it here.]{.aside} \n",
        "\n",
        "Looks ok! We have segmented the data into two clusters and found reasonable looking centroids, even though we didn't begin with any true labels.\n",
        "\n",
        "The following result is the fundamental theorem for k-means: \n",
        "\n",
        "::: {.callout-note}\n",
        "\n",
        "::: {#thm-k-means}\n",
        "\n",
        "## \"K-means works\"\n",
        "\n",
        "Each iteration of `k-means-step` does not increase the objective function in @eq-k-means-objective, provided that every cluster centroid is associated to at least one point. Furthermore, in this case, the k-means algorithm converges after a finite number of steps. \n",
        ":::\n",
        "\n",
        ":::\n",
        "\n",
        "## Laplacian Spectral Clustering\n",
        "\n",
        "K-means is a useful algorithm with an important limitation: it works best when the data is approximately linearly separable! So, we wouldn't expect k-means to do very well at all if we wanted to separate the two rings in a data set like this: "
      ]
    },
    {
      "cell_type": "code",
      "execution_count": null,
      "metadata": {},
      "outputs": [],
      "source": [
        "np.random.seed(1234)\n",
        "\n",
        "n = 500\n",
        "X, y = make_circles(n_samples=n, shuffle=True, noise=0.07, random_state=None, factor = 0.5)\n",
        "\n",
        "fig, ax = plt.subplots(1, figsize = (4, 4))\n",
        "a = ax.scatter(X[:, 0], X[:, 1])\n",
        "a = ax.set(xlabel = \"Feature 1\", ylabel = \"Feature 2\")"
      ]
    },
    {
      "cell_type": "markdown",
      "metadata": {},
      "source": [
        "Let's check: "
      ]
    },
    {
      "cell_type": "code",
      "execution_count": null,
      "metadata": {},
      "outputs": [],
      "source": [
        "M, z = k_means(X, 2)\n",
        "\n",
        "fig, ax = plt.subplots(1, figsize = (4, 4))\n",
        "a = ax.scatter(X[:, 0], X[:, 1], c = z, alpha = 0.4, cmap = plt.cm.cividis)\n",
        "a = ax.set(xlabel = \"Feature 1\", ylabel = \"Feature 2\")\n",
        "\n",
        "ax.scatter(M[:,0], M[:,1], s = 50, color = \"black\")"
      ]
    },
    {
      "cell_type": "markdown",
      "metadata": {},
      "source": [
        "You can see what k-means was going for here, but the result doesn't distinguish the two features that most of us would pick out by eye. \n",
        "\n",
        "We'll now develop *Laplacian spectral clustering*, a clustering method that uses matrix eigenvectors to cluster the data. Spectral clustering is a very beautiful and effective technique for nonlinear clustering of data. It has two primary limitations: it is most effective for binary clustering, and it can be computationally expensive for larger data sets. \n",
        "\n",
        "## Nearest-Neighbors Graph\n",
        "\n",
        "Laplacian clustering begins by computing the $k$-nearest-neighbors graph. In the $k$-nearest-neighbors graph, we draw a connecting edge between each point and the $k$ points that are nearest to it in distance. "
      ]
    },
    {
      "cell_type": "code",
      "execution_count": null,
      "metadata": {},
      "outputs": [],
      "source": []
    },
    {
      "cell_type": "markdown",
      "metadata": {},
      "source": [
        "Here, the `i`th row of `A` contains a `1` in each column `j` such that `j` is one of the five nearest neighbors of `i`. The following function will draw this graph for us: "
      ]
    },
    {
      "cell_type": "code",
      "execution_count": null,
      "metadata": {},
      "outputs": [],
      "source": [
        "import networkx as nx\n",
        "\n",
        "def plot_graph(X, A, z = None, ax = None, show_edge_cuts = True):\n",
        "    G = nx.from_numpy_array(A)\n",
        "    if z is None:\n",
        "        nx.draw(G, pos = X, alpha = .4, node_color = \"grey\", node_size = 20, ax = ax)\n",
        "    else: \n",
        "        if show_edge_cuts:\n",
        "            colors = [\"red\" if z[i] != z[j] else \"grey\" for i, j in G.edges()]\n",
        "            widths = [2 if z[i] != z[j] else 1 for i, j in G.edges()]\n",
        "        else:\n",
        "            colors = \"black\"\n",
        "            widths = 1\n",
        "        \n",
        "        nx.draw(G, pos = X, alpha = .4, node_color = z, node_size = 20, edge_color = colors, width = widths, ax = ax, cmap=plt.cm.cividis)\n",
        "\n",
        "    plt.gca().set(xlabel = \"Feature 1\", ylabel = \"Feature 2\")\n",
        "fig, ax = plt.subplots(figsize = (4, 4))\n",
        "plot_graph(X, A)"
      ]
    },
    {
      "cell_type": "markdown",
      "metadata": {},
      "source": [
        "We can now frame our task as one of finding the \"pieces\" of this graph. Defining a \"piece\" of a graph mathematically takes a bit of work. To think about this problem mathematically, let's first define a label vector $\\vz \\in [0,1]^n$. As usual, our machine learning problem is actually a mathematical minimization problem: we want to define an objective function $f$ such that $f(\\vz)$ is small when the labels of $\\vz$ are \"good.\"\n",
        "\n",
        "## Cut-Based Clustering\n",
        "\n",
        "A reasonable first pass at this problem is to define a clustering to be good when it doesn't \"cut\" too many edges. An edge is \"cut\" if it has two nodes in different clusters. For example, here are two possible clusterings, with the edges cut by each clustering shown in red. "
      ]
    },
    {
      "cell_type": "code",
      "execution_count": null,
      "metadata": {},
      "outputs": [],
      "source": [
        "fig, axarr = plt.subplots(1, 2, figsize = (8, 4))\n",
        "y_bad = np.random.randint(0, 2, n)\n",
        "\n",
        "plot_graph(X, A, z = y, ax = axarr[0])\n",
        "plot_graph(X, A, z = y_bad, ax = axarr[1])"
      ]
    },
    {
      "cell_type": "markdown",
      "metadata": {},
      "source": [
        "The righthand plot has many more red edges, which connect nodes in two different proposed clusters. In contrast, the lefthand plot has many fewer. \n",
        "\n",
        "Here are the cut values of these two clusterings: "
      ]
    },
    {
      "cell_type": "code",
      "execution_count": null,
      "metadata": {},
      "outputs": [],
      "source": [
        "# implement cut\n",
        "    \n",
        "print(f\"good labels cut = {cut(A, z = y)}\") \n",
        "print(f\"bad labels cut = {cut(A, z = y_bad)}\") "
      ]
    },
    {
      "cell_type": "markdown",
      "metadata": {},
      "source": [
        "So, it might seem as though a good approach would be to minimize the cut value of a label vector. Unfortunately, cut minimization has a fatal flaw: the best cut is always the one that assigns all nodes to the same label! This clustering always achieves a cut score of 0. So, we need to try something different. \n",
        "\n",
        "## Normalized Cut\n",
        "\n",
        "To define a better objective, we need a little notation. The *volume* of cluster $j$ in matrix $\\mA$ with clustering vector $\\vz$ is defined as \n",
        "\n",
        "$$\n",
        "\\vol{j}{\\mA}{\\vz} = \\sum_{i = 1}^n \\sum_{i' = 1}^n \\one{z_i = j} a_{ii'}\n",
        "$$\n",
        "\n",
        "Heuristically, $\\vol{j}{\\mA}{\\vz}$ is the number of edges that have one node in cluster $j$. The *normalized cut objective function* is \n",
        "\n",
        "$$\n",
        "f(\\vz, \\mA) = \\cut{\\mA}{\\vz}\\left(\\frac{1}{\\vol{0}{\\mA}{\\vz}} + \\frac{1}{\\vol{1}{\\mA}{\\vz}}\\right)\n",
        "$$\n",
        "\n",
        "The normcut of our preferable clustering is still better than the random one: "
      ]
    },
    {
      "cell_type": "code",
      "execution_count": null,
      "metadata": {},
      "outputs": [],
      "source": [
        "# implement vol and normcut\n",
        "\n",
        "print(f\"good labels normcut = {normcut(A, z = y)}\") \n",
        "print(f\"bad labels normcut = {normcut(A, z = y_bad)}\") "
      ]
    },
    {
      "cell_type": "markdown",
      "metadata": {},
      "source": [
        "::: {.callout-important}\n",
        "\n",
        "How do the $\\frac{1}{\\vol{j}{\\mA}{\\vz}}$ terms stop the normcut from favoring the clustering in which one cluster contains no nodes? \n",
        "\n",
        ":::\n",
        "\n",
        "\n",
        "\n",
        "## Spectral Approximation\n",
        "\n",
        "Great! How do we choose $\\vz$ to minimize the normcut? \n",
        "\n",
        "::: {.callout-note}\n",
        "\n",
        "::: {#thm-spectral-hard}\n",
        "\n",
        "The problem of finding a binary vector $\\vz \\in \\{0,1\\}^n$ that minimizes the normcut objective is NP-hard. \n",
        "\n",
        ":::\n",
        "\n",
        ":::\n",
        "\n",
        "Whoops! In fact, we can't minimize the normcut exactly, so we need to do so approximately. \n",
        "\n",
        "Here is the trick. Suppose that we have a binary clustering vector $\\vz$. We're going to associate $\\vz$ with a modified clustering vector $\\tilde{\\vz}$ with entries\n",
        "\n",
        "$$\n",
        "\\tilde{z}_i = \\begin{cases}\n",
        "    &\\frac{1}{\\vol{0}{\\mA}{\\vz}} \\quad z_i = 0 \\\\ \n",
        "    - &\\frac{1}{\\vol{1}{\\mA}{\\vz}} \\quad z_i = 1\\;.\n",
        "\\end{cases}\n",
        "$$\n",
        "\n",
        "A direct mathematical calculation then shows that we can write the normcut objective as $f(\\vz) = \\tilde{f}({\\tilde{\\vz}})$, where \n",
        "\n",
        "$$\n",
        "\\tilde{f}({\\tilde{\\vz}}) = \\frac{\\tilde{\\vz}^T(\\mD - \\mA)\\tilde{\\vz}}{\\tilde{\\vz}^T\\mD\\tilde{\\vz}}\\;,\n",
        "$${#eq-rayleigh-quotient}\n",
        "\n",
        "where \n",
        "\n",
        "$$\n",
        "\\mD = \\left[\\begin{matrix} \\sum_{i = 1}^n a_{i1} & & & \\\\ \n",
        "    & \\sum_{i = 1}^n a_{i2} & & \\\\ \n",
        "    &  & \\ddots & \\\\ \n",
        "    & & & \\sum_{i = 1}^n a_{in}\n",
        "\\end{matrix}\\right]\\;.\n",
        "$$\n",
        "\n",
        "Additionally, we have \n",
        "$$\n",
        "\\tilde{\\vz}^T\\mD \\vone = 0\\;,\n",
        "$${#eq-balance}\n",
        "where $\\vone$ is the vector containing all 1s. Heuristically, @eq-balance says that cluster 0 and cluster 1 contain roughly the same number of *edges* within them. \n",
        "\n",
        "[This cheat is common enough that it has a name: we call it the *spectral relaxation*.]{.aside}\n",
        "\n",
        "At this stage we do a cheat: we *forget* about the requirement that $\\tilde{\\vz}$ have the form we stated above. Instead, we simply solve the optimization problem \n",
        "\n",
        "$$\n",
        "\\begin{aligned}\n",
        "\\tilde{\\vz} =& \\argmin_{\\tilde{\\vz}} \\frac{\\tilde{\\vz}^T(\\mD - \\mA)\\tilde{\\vz}}{\\tilde{\\vz}^T\\mD\\tilde{\\vz}} \\\\ \n",
        "& \\text{such that }\\tilde{\\vz}^T\\mD \\vone = 0\n",
        "\\end{aligned}\n",
        "$$\n",
        "\n",
        "A  beautiful theorem from linear algebra states that there is an explicit solution to this problem: $\\vz$ should be the eigenvector with the second-smallest eigenvalue of the matrix $\\mL = \\mD^{-1}[\\mD - \\mA]$. This matrix $\\mL$ is called the *normalized Laplacian*, and it is the reason that this clustering algorithm is called *Laplacian spectral clustering*. "
      ]
    },
    {
      "cell_type": "code",
      "execution_count": null,
      "metadata": {},
      "outputs": [],
      "source": [
        "from hidden.spectral import second_laplacian_eigenvector\n",
        "fig, ax = plt.subplots(figsize = (4, 4))\n",
        "z_ = second_laplacian_eigenvector(A)\n",
        "plot_graph(X, A, z = z_, show_edge_cuts = False, ax = ax)"
      ]
    },
    {
      "cell_type": "markdown",
      "metadata": {},
      "source": [
        "Darker shades correspond to nodes on which the eigenvector is negative, while lighter shades correspond to nodes on which the eigenvector is positive. We can get a final set of cluster labels just by assigning nodes to the cluster depending on the sign of the estimated $\\tilde{\\vz}$:"
      ]
    },
    {
      "cell_type": "code",
      "execution_count": null,
      "metadata": {},
      "outputs": [],
      "source": [
        "z = z_ > 0\n",
        "fig, ax = plt.subplots(figsize = (4, 4))\n",
        "plot_graph(X, A, z, show_edge_cuts = True, ax = ax)"
      ]
    },
    {
      "cell_type": "markdown",
      "metadata": {},
      "source": [
        "Our method of distinguishing the two rings using Laplacian spectral clustering seems to have worked! Let's try with another data set: "
      ]
    },
    {
      "cell_type": "code",
      "execution_count": null,
      "metadata": {},
      "outputs": [],
      "source": [
        "from sklearn.datasets import make_moons\n",
        "\n",
        "X, z = make_moons(n_samples=100, random_state=1, noise = .1)\n",
        "fig, ax = plt.subplots(figsize = (4, 4))\n",
        "a = ax.scatter(X[:, 0], X[:, 1])\n",
        "a = ax.set(xlabel = \"Feature 1\", ylabel = \"Feature 2\")"
      ]
    },
    {
      "cell_type": "markdown",
      "metadata": {},
      "source": [
        "Now we'll use a complete implementation of Laplacian spectral clustering, which you can complete in an optional blog post. "
      ]
    },
    {
      "cell_type": "code",
      "execution_count": null,
      "metadata": {},
      "outputs": [],
      "source": [
        "from hidden.spectral import spectral_cluster\n",
        "\n",
        "fig, ax = plt.subplots(figsize = (4, 4))\n",
        "z = spectral_cluster(X, n_neighbors = 6)\n",
        "a = ax.scatter(X[:, 0], X[:, 1], c = z, cmap = plt.cm.cividis)\n",
        "a = ax.set(xlabel = \"Feature 1\", ylabel = \"Feature 2\")"
      ]
    },
    {
      "cell_type": "markdown",
      "metadata": {},
      "source": [
        "Looks pretty good! Note, however, that we chose a pretty specific value of `n_neighbors`, the number of neighbors to use when forming the nearest-neighbors graph. This is a hyperparameter that needs to be tuned in some way. Unfortunately, cross-validation isn't really an option here, as we don't have a loss function or training data to use for validation purposes. \n",
        "\n",
        "The performance of Laplacian spectral clustering can depend pretty strongly on this parameter. In this data set, small values can lead to oddly fragmented clusters, while larger values lead to results that don't look too different from what we might expect from `k-means`: "
      ]
    },
    {
      "cell_type": "code",
      "execution_count": null,
      "metadata": {},
      "outputs": [],
      "source": [
        "fig, axarr = plt.subplots(2, 3, figsize = (6, 4))\n",
        "\n",
        "i = 2\n",
        "for ax in axarr.ravel():\n",
        "    z = spectral_cluster(X, n_neighbors = i)\n",
        "    a = ax.scatter(X[:, 0], X[:, 1], c = z, cmap = plt.cm.cividis)\n",
        "    a = ax.set(xlabel = \"Feature 1\", ylabel = \"Feature 2\", title = f\"{i} neighbors\")\n",
        "    i += 1\n",
        "\n",
        "plt.tight_layout()"
      ]
    },
    {
      "cell_type": "markdown",
      "metadata": {},
      "source": [
        "As usual, there are ways to address these limitations, but these are beyond our scope for today. \n"
      ]
    }
  ],
  "metadata": {
    "kernelspec": {
      "display_name": "Python 3 (ipykernel)",
      "language": "python",
      "name": "python3"
    },
    "language_info": {
      "codemirror_mode": {
        "name": "ipython",
        "version": 3
      },
      "file_extension": ".py",
      "mimetype": "text/x-python",
      "name": "python",
      "nbconvert_exporter": "python",
      "pygments_lexer": "ipython3",
      "version": "3.9.15"
    }
  },
  "nbformat": 4,
  "nbformat_minor": 4
}
