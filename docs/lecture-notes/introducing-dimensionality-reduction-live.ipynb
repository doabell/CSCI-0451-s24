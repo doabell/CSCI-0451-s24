{
  "cells": [
    {
      "cell_type": "markdown",
      "metadata": {},
      "source": [
        "# Introduction: Unsupervised Learning\n",
        "\n",
        "So far in this course, we've considered the *supervised* learning framework. In the supervised framework, we have a matrix of predictive features $\\mX \\in \\R^{n\\times p}$ and a vector of targets $\\vy \\in \\R^n$. Our aim is to find a function $f:\\R^p\\rightarrow \\R$ such that $f(\\vx) \\approx y$; that is, $f$ can be used to make reasonable predictions of a new target $y$ on the basis of new predictors $\\vx$.   \n",
        "\n",
        "**Unsupervised learning** refers to machine learning techniques in which we do **not** have access to any targets $\\vy$. Instead, we only have the features $\\mX$. In general, the aim of unsupervised learning is not to make predictions, but rather to \"find some structure\" in the features $\\mX$. \n",
        "\n",
        "\n",
        "## Dimensionality Reduction\n",
        "\n",
        "On the other hand, dimensionality reduction is the task of identifying similar or related *features* (columns of $\\mX$). This often allows us to identify patterns in the data that we wouldn't be able to spot without algorithmic help. Dimensionality reduction is our topic for this lecture, and we'll discuss clustering in the next one. \n",
        "\n",
        "# Matrix Factorization Methods\n",
        "\n",
        "There are many approaches for dimensionality reduction. Here, we're going to consider *matrix factorization methods*. Broadly speaking, in matrix factorization, we aim to write $\\mX \\approx \\mU \\mW$ for some matrices $\\mU$ and $\\mW$, usually subject to some constraints on these matrices. One constraint is direct: if $\\mX \\in \\R^{n \\times p}$, then we must have $\\mU \\in \\R^{n \\times k}$ and $\\mW \\in \\R^{k\\times p}$ for some value of $k$. We sometimes think of $k$ as a *latent dimension* for the problem, and aim to find a value of $k \\ll p$. The smaller $k$ is, the more we have simplified our data, but small values of $k$ may cause us to lose a lot of interesting structure that we might have wanted to capture. \n",
        "\n",
        "To specify a matrix factorization model, we need to make three main choices: \n",
        "\n",
        "1. What does \"$\\approx$\"  mean when we write  $\\mX \\approx \\mU \\mW$?\n",
        "2. What choice of $k$ will we use? \n",
        "3. What other requirements will we place on $\\mU$ and $\\mW$? \n",
        "\n",
        "# Principal Component Analysis\n",
        "\n",
        "Principal component analysis (PCA) is a classical method in statistics for dimensionality reduction. Let's answer each of the three questions above for PCA. \n",
        "\n",
        "## Approximation: the Frobenius Norm\n",
        "\n",
        "In PCA, $\\mX \\approx \\mU \\mW$ means that $\\norm{\\mX - \\mU \\mW}_F$ is small, where $\\norm{\\cdot}_F$ is the *Frobenius norm*. The Frobenius norm of a matrix is just the square root of the sum of its squared entries: \n",
        "$$\n",
        "\\norm{\\mA}_F = \\sqrt{\\sum_{i = 1}^n \\sum_{j = 1}^n a_{ij}^2}\\;. \n",
        "$$\n",
        "\n",
        "## Choice of $k$\n",
        "\n",
        "For PCA, we leave the choice of $k$ to the user. There are heuristic ways for choosing $k$, but we won't discuss them in this course. \n",
        "\n",
        "## Constraints on $\\mU$ and $\\mW$\n",
        "\n",
        "In PCA, we place a certain special structure on the factorization matrices $\\mU$ and $\\mW$ that help us to interpret them: \n",
        "\n",
        "- $\\mW \\in \\R^{k \\times p}$ \n",
        "- $\\mU = \\mX \\mW^T$. Note that this ensures that $\\mU \\in \\R^{n\\times k}$. \n",
        "- $\\mW \\mW^T = \\mI$. \n",
        "\n",
        "These assumptions can be derived statistically from the problem of finding the subspace (spanned by $\\mW$) that maximizes the variance of the data when projected onto that subspace. \n",
        "\n",
        "## The PCA Model\n",
        "\n",
        "With these choices, the PCA optimization problem becomes: \n",
        "\n",
        "$$\n",
        "\\begin{aligned}\n",
        "\\hat{\\mW} =& \\argmin_{\\mW \\in \\R^{n\\times k}} \\norm{\\mX - \\mX\\mW^T\\mW }_{F} \\\\ \n",
        "          &\\text{Such that }  \\mW\\mW^T = \\mI\n",
        "\\end{aligned}\n",
        "$$\n",
        "\n",
        "Now, we could aim to solve this problem with gradient descent (in the entries of $\\mW$) or some similar approach. This, however, is more complicated than needed. As it turns out, some nice theory from linear algebra gives us a formula for finding $\\mW$ in terms of the eigenvalues of the matrix $\\mX^T\\mX$. In particular: [Take a moment to convince yourself that $\\hat{\\mW}$ has dimensions $k \\times p$ as required.]{.aside}\n",
        "\n",
        "$$\n",
        "\\hat{\\mW} = \\left[\\begin{matrix} \n",
        "              - & \\vv_1 & - \\\\ \n",
        "              - & \\vv_2 & - \\\\\n",
        "              \\vdots & \\vdots & \\vdots \\\\ \n",
        "              - & \\vv_k & - \\\\ \n",
        "\\end{matrix}\\right]\n",
        "$$\n",
        "\n",
        "where $\\vv_i$ is the $i$th eigenvector of $\\mX^T\\mX$. \n",
        "\n",
        "## Implementing PCA\n",
        "\n",
        "Let's go ahead and implement PCA. We'll do this using a term-document matrix that I derived from Lewis Caroll's famous book *Alice's Adventures in Wonderland*. Each row of the data corresponds to a chapter of the book, and each column corresponds to a word that may appear in that chapter: "
      ]
    },
    {
      "cell_type": "code",
      "execution_count": null,
      "metadata": {},
      "outputs": [],
      "source": [
        "#| code-fold: true\n",
        "\n",
        "import numpy as np\n",
        "import pandas as pd\n",
        "from matplotlib import pyplot as plt\n",
        "\n",
        "import nltk\n",
        "from nltk.corpus import gutenberg\n",
        "# nltk.download('gutenberg') # need to run once\n",
        "from sklearn.feature_extraction.text import CountVectorizer\n",
        "\n",
        "s = gutenberg.raw(\"carroll-alice.txt\")\n",
        "chapters = s.split(\"CHAPTER\")[1:]\n",
        "df = pd.DataFrame({\n",
        "    \"chapter\" : range(1, len(chapters) + 1),\n",
        "    \"text\" : chapters\n",
        "})\n",
        "df\n",
        "\n",
        "vec = CountVectorizer(max_df = 0.5, min_df = 0, stop_words = \"english\")\n",
        "\n",
        "counts = vec.fit_transform(df['text'])\n",
        "counts = counts.toarray()\n",
        "M = pd.DataFrame(counts, columns = vec.get_feature_names_out())"
      ]
    },
    {
      "cell_type": "markdown",
      "metadata": {},
      "source": [
        "Now we're ready to implement PCA. Because there is an explicit solution in terms of the eigenvalues of a matrix, our implementation can be very short. [This is a *very slow* implementation of PCA; faster methods involve numerical methods for computing *singular values*.]{.aside}"
      ]
    },
    {
      "cell_type": "code",
      "execution_count": null,
      "metadata": {},
      "outputs": [],
      "source": []
    },
    {
      "cell_type": "markdown",
      "metadata": {},
      "source": [
        "Here's PCA in action: "
      ]
    },
    {
      "cell_type": "code",
      "execution_count": null,
      "metadata": {},
      "outputs": [],
      "source": []
    },
    {
      "cell_type": "markdown",
      "metadata": {},
      "source": [
        "## Interpreting PCA\n",
        "\n",
        "Ok, so why did we do this? Both the matrices $\\mU$ and $\\mW$ can be used to give us information about the structure of the text. In the context of text analysis, we usually interpret $\\mU$ and $\\mW$ as expressing information about some latent *topics*. The $j$ th column of $\\mW$ gives us a weight for each term in the text; this tells us how present each term is in the topic. The following function can be used to inspect the top words in each topic:  "
      ]
    },
    {
      "cell_type": "code",
      "execution_count": null,
      "metadata": {},
      "outputs": [],
      "source": [
        "def top_words_pca(M, W, component, num_words):\n",
        "    orders = np.argsort(np.abs(W), axis = 1)\n",
        "    important_words = np.array(M.columns)[orders]\n",
        "    return important_words[component][-num_words:]\n",
        "\n",
        "for i in range(k):\n",
        "  print(f\"topic {i}: {top_words_pca(M, W, i, 10)}\")"
      ]
    },
    {
      "cell_type": "markdown",
      "metadata": {},
      "source": [
        "On the other hand, the matrix $\\mU = \\mX \\mW^T$ tells us about how present each of the $k$ topics are in each of the documents (in this case, chapters of the book). We can visualize the topic weight in each chapter over time: "
      ]
    },
    {
      "cell_type": "code",
      "execution_count": null,
      "metadata": {},
      "outputs": [],
      "source": [
        "fig, ax = plt.subplots(1)\n",
        "\n",
        "for i in range(k):\n",
        "    ax.plot(np.arange(1, M.shape[0]+1), U[:,i], label = top_words_pca(M, W, i, 8))\n",
        "\n",
        "ax.set(xlabel = \"chapter\", ylabel = \"topic weight\")\n",
        "\n",
        "ax.legend(bbox_to_anchor=(1, -.15))"
      ]
    },
    {
      "cell_type": "markdown",
      "metadata": {},
      "source": [
        "## Limitations of PCA \n",
        "\n",
        "PCA is a fantastically powerful algorithm in a wide variety of settings, but it does have some important limitations. In this case, it can be difficult for us to interpret the results of PCA because some of the topics can be \"negatively involved\" in a chapter. That is, the words in that topic are \"especially absent\" from the chapter. This is confusing at best. So, we have a mismatch between what this specific matrix factorization method does and our interpretability needs. This is a very common situation, and is one of the most frequent motivators of new methods. [For more on PCA, including some settings in which it is more effective, see [this section](https://jakevdp.github.io/PythonDataScienceHandbook/05.09-principal-component-analysis.html) of the *Python Data Science Handbook* by Jake VanderPlas.]{.aside}\n",
        "\n",
        "# Nonnegative Matrix Factorization\n",
        "\n",
        "Nonnegative matrix factorization (NMF) is an algorithm that is explicitly designed to compensate for this problem. In NMF, we instead solve a different matrix factorization problem. The core of the problem is:[I call this the \"core\" of the problem because there are also usually other terms minimized that correspond to different kinds of regularization.]{.aside} \n",
        "\n",
        "$$\n",
        "\\begin{aligned}\n",
        "\\hat{\\mU}, \\hat{\\mW} =& \\argmin_{\\mU \\in \\R^{n \\times k}, \\mW \\in \\R^{k\\times p}} \\norm{\\mX - \\mU\\mW}_{F} \\\\ \n",
        "          &\\text{Such that }  \\mU, \\mW \\geq \\vzero \\; . \n",
        "\\end{aligned}\n",
        "$$\n",
        "\n",
        "That is, both the matrices $\\mU$ and $\\mW$ are required to be nonnegative in all their entries. This ensures that the results will be more interpretable, at the cost of making it much harder to actually solve the problem. Implementations of NMF usually require modified relatives of gradient descent in order to run. \n",
        "\n",
        "Let's see NMF in action on our data: "
      ]
    },
    {
      "cell_type": "code",
      "execution_count": null,
      "metadata": {},
      "outputs": [],
      "source": []
    },
    {
      "cell_type": "markdown",
      "metadata": {},
      "source": [
        "As before, we can extract the most important words for each topic: "
      ]
    },
    {
      "cell_type": "code",
      "execution_count": null,
      "metadata": {},
      "outputs": [],
      "source": [
        "def top_words_NMF(M, model, component, num_words):\n",
        "    orders = np.argsort(model.components_, axis = 1)\n",
        "    important_words = np.array(M.columns)[orders]\n",
        "    return important_words[component][-num_words:]\n",
        "\n",
        "for i in range(k):\n",
        "  print(top_words_NMF(M, model, i, 10))"
      ]
    },
    {
      "cell_type": "markdown",
      "metadata": {},
      "source": [
        "And plot the role of each topic in each chapter: "
      ]
    },
    {
      "cell_type": "code",
      "execution_count": null,
      "metadata": {},
      "outputs": [],
      "source": [
        "U = model.transform(M)\n",
        "fig, ax = plt.subplots(1)\n",
        "\n",
        "for i in range(4):\n",
        "    ax.plot(df['chapter'], U[:,i], label = top_words_NMF(M, model, i, 8))\n",
        "\n",
        "ax.legend(bbox_to_anchor=(1, -.15))"
      ]
    },
    {
      "cell_type": "markdown",
      "metadata": {},
      "source": [
        "This is much more interpretable! We can easily see several major features of the plot of the novel, including the tea party with the March Hare, the Mad Hatter, and the Dormouse (Chapter 7), the crocquet game in the court of the Queen of Hearts (Chapter 8), the appearance of the Mock Turtle and the Lobster (Chapters 9 and 10), and the reappearance of many characters in Chapter 11."
      ]
    }
  ],
  "metadata": {
    "kernelspec": {
      "display_name": "ml-0451",
      "language": "python",
      "name": "python3"
    },
    "language_info": {
      "name": "python",
      "version": "3.9.15"
    }
  },
  "nbformat": 4,
  "nbformat_minor": 4
}
