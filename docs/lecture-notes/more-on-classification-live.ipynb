{
  "cells": [
    {
      "cell_type": "raw",
      "metadata": {},
      "source": [
        "---\n",
        "title: |\n",
        "  More Classifiers and More Labels\n",
        "author: Phil Chodrow\n",
        "bibliography: ../refs.bib\n",
        "format: \n",
        "  html: \n",
        "    code-fold: false\n",
        "    cache: true\n",
        "    callout-appearance: minimal\n",
        "    cap-location: margin\n",
        "---"
      ]
    },
    {
      "cell_type": "markdown",
      "metadata": {},
      "source": [
        "::: {.hidden}\n",
        "$$\n",
        "\\newcommand{\\R}{\\mathbb{R}}\n",
        "\\newcommand{\\cP}{\\mathcal{P}}\n",
        "\\newcommand{\\vx}{\\mathbf{x}}\n",
        "\\newcommand{\\vp}{\\mathbf{p}}\n",
        "\\newcommand{\\vy}{\\mathbf{y}}\n",
        "\\newcommand{\\vz}{\\mathbf{z}}\n",
        "\\newcommand{\\vd}{\\mathbf{d}}\n",
        "\\newcommand{\\mX}{\\mathbf{X}}\n",
        "\\newcommand{\\mR}{\\mathbf{R}}\n",
        "\\newcommand{\\mW}{\\mathbf{W}}\n",
        "\\newcommand{\\mY}{\\mathbf{Y}}\n",
        "\\newcommand{\\mZ}{\\mathbf{Z}}\n",
        "\\newcommand{\\vw}{\\mathbf{w}}\n",
        "\\newcommand{\\vr}{\\mathbf{r}}\n",
        "\\newcommand{\\vzero}{\\mathbf{0}}\n",
        "\\newcommand{\\bracket}[1]{\\langle #1 \\rangle}\n",
        "\\newcommand{\\paren}[1]{\\left( #1 \\right)}\n",
        "\\newcommand{\\one}[1]{\\mathbb{1}\\left[ #1 \\right]}\n",
        "\\newcommand{\\cL}{\\mathcal{L}}\n",
        "\\newcommand{\\cD}{\\mathcal{D}}\n",
        "\\newcommand{\\cM}{\\mathcal{M}}\n",
        "\\newcommand{\\mA}{\\mathbf{A}}\n",
        "\\newcommand{\\vtheta}{\\boldsymbol{\\theta}}\n",
        "\\newcommand{\\vsigma}{\\boldsymbol{\\sigma}}\n",
        "\\newcommand{\\norm}[1]{\\lVert #1 \\rVert}\n",
        "\\newcommand{\\abs}[1]{\\lvert #1 \\rvert}\n",
        "\\newcommand{\\prob}[1]{\\mathbb{P}\\left[#1\\right]}\n",
        "\\newcommand{\\E}{\\mathbb{E}}\n",
        "\\newcommand{\\dd}[2]{\\frac{\\partial #1}{\\partial #2}}\n",
        "\n",
        "\\usepackage{amsmath}\n",
        "\\DeclareMathOperator*{\\argmax}{arg\\,max}\n",
        "\\DeclareMathOperator*{\\argmin}{arg\\,min}\n",
        "$$\n",
        "\n",
        ":::"
      ]
    },
    {
      "cell_type": "code",
      "execution_count": null,
      "metadata": {},
      "outputs": [],
      "source": [
        "#| echo: false\n",
        "from warnings import simplefilter\n",
        "from sklearn.exceptions import ConvergenceWarning\n",
        "simplefilter(\"ignore\", category=ConvergenceWarning)"
      ]
    },
    {
      "cell_type": "markdown",
      "metadata": {},
      "source": [
        "In this set of notes, we'll introduce a few new classifiers at a high level, including classifiers that go beyond the framework of convex linear models. \n",
        "\n",
        "# Recap\n",
        "\n",
        "So far, we've focused on the framework of *empirical risk minimization* for *convex linear models* that address the *binary classification* task. Today, we're going to (a) look at classification beyond binary labels and (b) briefly discuss some examples of classification models that are neither convex nor linear. \n",
        "\n",
        "Recall that in our setting of convex linear models for binary classification, we consider the problem of minimizing the following function: \n",
        "\n",
        "$$\n",
        "L(\\vw) = \\sum_{i = 1}^n \\ell(\\bracket{\\vw, \\phi(\\vx_i)}, y_i)\n",
        "$$\n",
        "\n",
        "Here, \n",
        "\n",
        "- $\\mX \\in \\R^{n\\times p}$ is the *feature matrix*. There are $n$ distinct observations, encoded as rows. Each of the $p$ columns corresponds to a *feature*: something about each observation that we can measure or infer. Each observation is written $\\vx_1, \\vx_2,\\ldots$. \n",
        "$$\n",
        "\\mX = \\left[\\begin{matrix} & - & \\vx_1 & - \\\\ \n",
        "& - & \\vx_2 & - \\\\ \n",
        "& \\vdots & \\vdots & \\vdots \\\\ \n",
        "& - & \\vx_{n} & - \\end{matrix}\\right]\n",
        "$$\n",
        "- $\\vy \\in \\R^{n}$ is the *target vector*. The target vector gives a label, value, or outcome for each observation. \n",
        "- $\\phi$ is a *feature map* and $\\ell$ is a convex per-observation loss function. \n",
        "\n",
        "We've studied where this framework comes from and how to solve the empirical risk minimization problem \n",
        "$$\n",
        "\\hat{\\vw} = \\argmin_{\\vw} L(\\vw)\\;. \n",
        "$$\n",
        "using gradient descent, in which we perform the iteration \n",
        "$$\n",
        "\\hat{\\vw}^{(t+1)} \\gets \\hat{\\vw}^{(t)} - \\alpha \\nabla L(\\vw^{(t)})\n",
        "$$\n",
        "until convergence. Assuming that our per-observation loss function is convex (as it is, for example, in logistic regression), gradient descent will always converge to the globally optimal $\\hat{\\vw}$ (although it might do so slowly). \n",
        "\n",
        "# Modifications for the Multiclass Setting\n",
        "\n",
        "## Multiple Class Labels\n",
        "\n",
        "So far, we've treated binary classification, especially in the setting where the labels $y \\in \\{0,1\\}$. We'd like to do *multiclass* classification, where, for example, $y \\in \\{0, 1, 2\\}$. This is the setting, for example, that you encounter in the [blog post on penguin classification](../assignments/blog-posts/blog-post-penguins.qmd). The transition from binary classification to multiple class labels is not too complex, if we allow ourselves to think of the target label $y$ as encoding a target *vector* $\\tilde{\\vy}$ with zeros in all entries except the $y$th entry. Let $k$ be the number of possible classes. Then, if $k = 3$ and $y = 1$, then $\\tilde{\\vy} = (0, 1, 0)$. [This is often called *one-hot encoding*.]{.aside} For this to work, we have to make a few other modifications as well: \n",
        "\n",
        "### Prediction Vectors\n",
        "\n",
        "Our prediction model $f(\\vx)$ can't just spit out a real number any more -- it needs to spit out something that we can compare with $\\tilde{\\vy}$. So, things like $f(\\vx) = \\bracket{\\vw, \\vx}$ don't work anymore! We usually assume that $f:\\R^p \\rightarrow \\R^k$, that is, $\\hat{\\vy} = f(\\vx)$ is a vector of the same length as $\\tilde{\\vy}$. As one important example of this, we might assume that \n",
        "$$\n",
        "f(\\vx) = \\mW \\vx\\;,\n",
        "$$\n",
        "where now $\\mW \\in \\R^{k \\times p}$ is a *matrix* of weights. [This is a direct generalization of our previous setting: if $f(\\vx) = \\bracket{\\vw, \\vx}$, then we can think of $\\vw$ as being a $p\\times 1$ matrix.]{.aside}\n",
        "\n",
        "### Loss Function\n",
        "\n",
        "We also need to modify our *loss function* so that we can compute things like \n",
        "$$\n",
        "\\ell(\\hat{\\vy}, \\tilde{\\vy})\n",
        "$$\n",
        "when both $\\hat{\\vy}$ and $\\tilde{\\vy}$ are vectors. One common way we do this is via the *categorical cross-entropy*. First, define the *softmax* function $\\vsigma:\\R^k\\rightarrow \\R^k$ by the formula \n",
        "\n",
        "$$\n",
        "\\vsigma(\\hat{\\vy})_h = \\frac{e^{\\hat{y}_h}}{\\sum_{h' = 1}^k e^{\\hat{y}_{h'}}}\\;.\n",
        "$$\n",
        "\n",
        "The vector $\\vsigma(\\hat{\\vy})$ is a *probability vector*: all its entries are nonnegative and sum to 1. For convenience, write $\\hat{\\vp} = \\vsigma(\\hat{\\vy})$. Then, then *categorical cross-entropy* is \n",
        "\n",
        "$$\n",
        "\\ell(\\hat{\\vy}, \\tilde{\\vy}) = -\\sum_{h = 1}^k \\tilde{y}_h \\log \\vsigma(\\hat{\\vy})_h\\;.  \n",
        "$${#eq-categorical-cross-entropy}\n",
        "\n",
        "The categorical cross-entropy is a generalization of the logistic loss. \n",
        "\n",
        "## Multiclass Empirical Risk\n",
        "\n",
        "We can now write the general empirical risk (not assuming linearity or convexity) as \n",
        "\n",
        "$$\n",
        "\\sum_{i = 1}^n \\ell(f(\\vx_i), \\tilde{\\vy}_i)\\;.\n",
        "$$\n",
        "\n",
        "As usual, we'd like to find a prediction rule $f$ that makes the empirical risk small, although we need to be aware of possible issues related to overfitting. \n",
        "\n",
        "# A Quick Tour of Classifiers\n",
        "\n",
        "## Multinomial Logistic Regression\n",
        "\n",
        "In multinomial logistic regression, $f(\\vx_i) = \\mW \\vx_i$ and the loss function is the categorical cross-entropy from @eq-categorical-cross-entropy. An important feature of multinomial logistic regression is that it has *linear* decision boundaries. "
      ]
    },
    {
      "cell_type": "code",
      "execution_count": null,
      "metadata": {},
      "outputs": [],
      "source": [
        "import pandas as pd\n",
        "import numpy as np\n",
        "from matplotlib import pyplot as plt\n",
        "\n",
        "train_url = \"https://raw.githubusercontent.com/middlebury-csci-0451/CSCI-0451/main/data/palmer-penguins/train.csv\"\n",
        "train = pd.read_csv(train_url)\n",
        "\n",
        "from sklearn.preprocessing import LabelEncoder\n",
        "le = LabelEncoder()\n",
        "le.fit(train[\"Species\"])\n",
        "\n",
        "species = [s.split()[0] for s in le.classes_]\n",
        "\n",
        "def prepare_data(df):\n",
        "  df = df.drop([\"studyName\", \"Sample Number\", \"Individual ID\", \"Date Egg\", \"Comments\", \"Region\"], axis = 1)\n",
        "  df = df[df[\"Sex\"] != \".\"]\n",
        "  df = df.dropna()\n",
        "  y = le.transform(df[\"Species\"])\n",
        "  df = df.drop([\"Species\"], axis = 1)\n",
        "  df = pd.get_dummies(df)\n",
        "  return df, y\n",
        "\n",
        "X_train, y_train = prepare_data(train)"
      ]
    },
    {
      "cell_type": "code",
      "execution_count": null,
      "metadata": {},
      "outputs": [],
      "source": [
        "from sklearn.linear_model import LogisticRegression\n",
        "from mlxtend.plotting import plot_decision_regions\n",
        "\n",
        "cols = [\"Culmen Length (mm)\", \"Culmen Depth (mm)\"]\n",
        "\n",
        "def training_decision_regions(model, cols, **kwargs):\n",
        "    m = model(**kwargs)\n",
        "    m.fit(np.array(X_train[cols]), y_train)\n",
        "    plot_decision_regions(np.array(X_train[cols]), y_train, clf = m)\n",
        "    ax = plt.gca()\n",
        "    ax.set(xlabel = cols[0], \n",
        "                  ylabel = cols[1], \n",
        "                  title = f\"Training accuracy = {m.score(np.array(X_train[cols]), y_train).round(2)}\")\n",
        "\n",
        "    handles, labels = ax.get_legend_handles_labels()\n",
        "    ax.legend(handles, \n",
        "              species, \n",
        "              framealpha=0.3, \n",
        "              scatterpoints=1)"
      ]
    },
    {
      "cell_type": "code",
      "execution_count": null,
      "metadata": {},
      "outputs": [],
      "source": []
    },
    {
      "cell_type": "markdown",
      "metadata": {},
      "source": [
        "If we fit an individual logistic regression model, we'll be able to see how its predictions work: "
      ]
    },
    {
      "cell_type": "code",
      "execution_count": null,
      "metadata": {},
      "outputs": [],
      "source": []
    },
    {
      "cell_type": "markdown",
      "metadata": {},
      "source": [
        "Now that we've fit the model, we can inspect the *weight matrix*: "
      ]
    },
    {
      "cell_type": "code",
      "execution_count": null,
      "metadata": {},
      "outputs": [],
      "source": []
    },
    {
      "cell_type": "markdown",
      "metadata": {},
      "source": [
        "This weight matrix multiplies the feature matrix to get the prediction matrix $\\hat{\\mY}$. "
      ]
    },
    {
      "cell_type": "code",
      "execution_count": null,
      "metadata": {},
      "outputs": [],
      "source": []
    },
    {
      "cell_type": "markdown",
      "metadata": {},
      "source": [
        "The built-in method `LR.predict_proba` will compute the predictions after having passed them through the softmax function. The advantage of this is that we can interpret each entry as the probability of class membership: "
      ]
    },
    {
      "cell_type": "code",
      "execution_count": null,
      "metadata": {},
      "outputs": [],
      "source": []
    },
    {
      "cell_type": "markdown",
      "metadata": {},
      "source": [
        "Here's a heatmap of the first 20 individuals and their predicted labels. Brighter yellow means greater predicted probability of belonging to the specified class. "
      ]
    },
    {
      "cell_type": "code",
      "execution_count": null,
      "metadata": {},
      "outputs": [],
      "source": []
    },
    {
      "cell_type": "markdown",
      "metadata": {},
      "source": [
        "Almost all of the individuals are clearly predicted in just one of the classes, while the model is less confident about the membership of the penguin with index 10.  \n",
        "\n",
        "## Support Vector Machine\n",
        "\n",
        "The support vector machine classification problem *for binary classification* is a convex linear model in which we use the so-called hinge loss. In the notation from our previous lectures, it can be written like this: \n",
        "\n",
        "$$\n",
        "\\hat{\\vw} = \\argmin_{\\vw} \\left[\\sum_{i = 1}^n \\max \\{1 - y_i \\bracket{\\vw, \\vx_i}, 0\\} + \\frac{1}{2C}\\sum_{\\ell = 1}^p w_\\ell^2\\right]\\;. \n",
        "$$\n",
        "\n",
        "Mathematically, the support vector machine is an exceptionally beautiful algorithm, primarily because it admits a \"*kernel trick*.\" The kernel trick allows us to use *infinite-dimensional* nonlinear features for prediction, which can significantly enhance the expressive power of our models. [For more on the kernel trick, see [Hardt and Recht](https://via.hypothes.is/https://arxiv.org/pdf/2102.05242.pdf), p. 58-62.]{.aside} To my knowledge, unfortunately, the support vector machine doesn't handle multiclass classification very well. What `scikit-learn` does is split the problem into a sequence of binary problems (\"blue or not blue\") to obtain the final result. Here's an example: "
      ]
    },
    {
      "cell_type": "code",
      "execution_count": null,
      "metadata": {},
      "outputs": [],
      "source": []
    },
    {
      "cell_type": "markdown",
      "metadata": {},
      "source": [
        "Here, the `rbf` kernel can be changed according to user preferences. `gamma` controls how wiggly the decision boundary is allowed to be: "
      ]
    },
    {
      "cell_type": "code",
      "execution_count": null,
      "metadata": {},
      "outputs": [],
      "source": []
    },
    {
      "cell_type": "markdown",
      "metadata": {},
      "source": [
        "Cross-validation or other tools should be used in order to determine a value of $\\gamma$ that has good expressive power while avoiding overfitting. \n",
        "\n",
        "## Multilayer Perceptron\n",
        "\n",
        "Logistic regression and support vector machine are both *still* in the convex linear model framework. Let's now move beyond this framework for the first time. We'll consider\n",
        "\n",
        "1. A new nonconvex linear model. \n",
        "2. A nonconvex nonlinear model. \n",
        "\n",
        "We've already seen a nonconvex linear model: perceptron! To create a more useful one, let's consider the following idea: we're going to just stack logistic regressions on top of each other, like this: \n",
        "$$\n",
        "\\mZ = \\vsigma(\\mX\\mW)\n",
        "$$\n",
        "\n",
        "That is, the matrix $\\mZ$ is the result of computing the matrix product $\\mX\\mW$ and then applying the softmax function row-wise. If $\\mW$ is $p\\times \\ell$, then $\\mX \\mW$ is an $n\\times \\ell$ matrix, as is $\\mZ$. This is essentially multinomial logistic regression. Now, here's the thing: what if we just used $\\mZ$ as the input to *another* logistic regression? That is, we compute \n",
        "$$\n",
        "\\hat{\\mY} = \\vsigma(\\mZ \\mW')\\;,\n",
        "$$\n",
        "\n",
        "where $\\mW'$ is a *new* matrix of weights and $\\hat{\\mY}$ is our matrix of predictions that we will assess using the categorical cross-entropy or another such function. Then, the empirical risk minimization problem is\n",
        "$$\n",
        "\\hat{\\mW}, \\hat{\\mW}' = \\argmin_{\\mW, \\mW'} \\sum_{i = 1}^n \\ell(\\vsigma(\\vsigma(\\mX\\mW)\\mW')_i, \\tilde{\\vy}_i) \\;.\n",
        "$$\n",
        "\n",
        "This problem is no longer convex, but we can still try to optimize it with gradient descent. \n",
        "\n",
        "We often call the computation of $\\mZ$ a *hidden layer* because it is neither the feature matrix $\\mX$ nor the target $\\tilde{\\vy}$. So, we have created a model with a single hidden layer. The idea of stacking together simple linear transformations with simple nonlinearities is the fundamental idea of modern deep learning. \n",
        "\n",
        "`scikit-learn` implements models like this under the heading of \"multilayer perceptron\" (the name is mostly historical). We can create a multilayer perceptron like this: "
      ]
    },
    {
      "cell_type": "code",
      "execution_count": null,
      "metadata": {},
      "outputs": [],
      "source": []
    },
    {
      "cell_type": "markdown",
      "metadata": {},
      "source": [
        "We observe apparently linear decision boundaries in the data set this time, although in principle the model could also have generated nonlinear boundaries. \n",
        "\n",
        "## Decision Tree Classifiers\n",
        "\n",
        "Decision tree classifiers still do empirical risk minimization, but they are *both* nonlinear and nonconvex. The best way to see what a decision tree classifier does is to train one and visualize it: "
      ]
    },
    {
      "cell_type": "code",
      "execution_count": null,
      "metadata": {},
      "outputs": [],
      "source": []
    },
    {
      "cell_type": "markdown",
      "metadata": {},
      "source": [
        "We observe that the decision tree works by making a sequence of decisions that sort the data into progressively finer buckets. You can implement a decision tree as nothing more than a sequence of nested `if-else` statements, although the algorithms to actually train them can be trickier. The decision regions for decision trees look \"boxy,\" composed of vertical and horizontal segments: "
      ]
    },
    {
      "cell_type": "code",
      "execution_count": null,
      "metadata": {},
      "outputs": [],
      "source": []
    },
    {
      "cell_type": "markdown",
      "metadata": {},
      "source": [
        "Decision trees are very flexible models, but it is easy for them to overfit if the depth is too high: "
      ]
    },
    {
      "cell_type": "code",
      "execution_count": null,
      "metadata": {},
      "outputs": [],
      "source": []
    },
    {
      "cell_type": "markdown",
      "metadata": {},
      "source": [
        "For this reason, it is common to choose the depth through cross validation: "
      ]
    },
    {
      "cell_type": "code",
      "execution_count": null,
      "metadata": {},
      "outputs": [],
      "source": []
    },
    {
      "cell_type": "markdown",
      "metadata": {},
      "source": [
        "It looks like a depth of roughly 6 might be about right for this data set: "
      ]
    },
    {
      "cell_type": "code",
      "execution_count": null,
      "metadata": {},
      "outputs": [],
      "source": []
    },
    {
      "cell_type": "markdown",
      "metadata": {},
      "source": [
        "### Random Forest\n",
        "\n",
        "A  *random forest* is essentially a collection of many decision trees that have been trained on random subsets of the data. Random forest classifiers have some very good properties that help them be fairly resistent to overfitting -- they usually work pretty well \"out of the box.\" "
      ]
    },
    {
      "cell_type": "code",
      "execution_count": null,
      "metadata": {},
      "outputs": [],
      "source": []
    },
    {
      "cell_type": "markdown",
      "metadata": {},
      "source": [
        "# A Wide World of Classifiers\n",
        "\n",
        "There are many other classification algorithms. Which algorithm to use in a specific case depends on things like: \n",
        "\n",
        "1. How much computational power do I have for the training stage?\n",
        "2. How much computational power do I have each time I make a prediction?\n",
        "3. Is the mathematical structure of the classifier well-aligned to my data? \n",
        "\n",
        "For relatively small data sets, it's often possible to simply use cross-validation scores or similar metrics in order to choose between competing classifiers. \n"
      ]
    }
  ],
  "metadata": {
    "kernelspec": {
      "display_name": "ml-0451",
      "language": "python",
      "name": "python3"
    },
    "language_info": {
      "name": "python",
      "version": "3.9.15"
    },
    "vscode": {
      "interpreter": {
        "hash": "debe06cc0f9553f110b64dc3926c05df82dae2145b852c8422b9c04315589dcb"
      }
    }
  },
  "nbformat": 4,
  "nbformat_minor": 4
}
