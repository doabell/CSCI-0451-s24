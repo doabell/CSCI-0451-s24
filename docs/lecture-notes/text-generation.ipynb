{
  "cells": [
    {
      "cell_type": "raw",
      "metadata": {
        "id": "0erVEsYsOGHD"
      },
      "source": [
        "---\n",
        "title: |\n",
        "  Text Generation\n",
        "author: Phil Chodrow\n",
        "bibliography: ../refs.bib\n",
        "format: \n",
        "  html: \n",
        "    code-fold: false\n",
        "    cache: true\n",
        "    callout-appearance: minimal\n",
        "    cap-location: margin\n",
        "---"
      ]
    },
    {
      "cell_type": "markdown",
      "metadata": {
        "id": "view-in-github"
      },
      "source": [
        "<a href=\"https://colab.research.google.com/github/middlebury-csci-0451/CSCI-0451/blob/main/lecture-notes/text-generation.ipynb\" target=\"_parent\">Open these notes in Google Colab</a>\n",
        "\n",
        "<a href=\"https://colab.research.google.com/github/middlebury-csci-0451/CSCI-0451/blob/main/lecture-notes/text-generation-live.ipynb\" target=\"_parent\">Open the live version in Google Colab</a>"
      ]
    },
    {
      "cell_type": "markdown",
      "metadata": {
        "id": "qiYn6e_yQkcs"
      },
      "source": [
        "## Text Generation\n",
        "\n",
        "In this set of notes, we'll see a simple example of how to design and train models that perform *text generation*. Large language models (often called *chatbots*) are one familiar technology that uses text generation, while autocomplete features on websites and your devices are another. The text generation task is: \n",
        "\n",
        "> Given a text prompt, return a sequence of text that appears realistic as a follow-up to that prompt. \n",
        "\n",
        "Except for a brief foray into unsupervised learning, almost all of our attention in this course has been focused on prediction problems. At first glance, it may not appear that text generation involves any prediction at all. However, modern approaches to text generation rely fundamentally on supervised learning through the framework of *next token prediction*. \n",
        "\n",
        "## Next Token Prediction\n",
        "\n",
        "The *next token prediction* problem is to predict a single *token* in terms of previous tokens. A *token* is a single \"unit\" of text. What counts as a unit is somewhat flexible. In some cases, each token might be a single character: \"a\" is a token, \"b\" is a token, etc. In other cases, each token might be a word. [Many modern models do something in between and let tokens represent common short sequences of characters using *[byte-pair encoding](https://huggingface.co/learn/nlp-course/chapter6/5?fw=pt)*.]{.aside}\n",
        "\n",
        "For this set of lecture notes, we're going to treat *words* and *punctuation* as tokens. The next token prediction problem is: \n",
        "\n",
        "> Given a sequence of tokens, predict the next token in the sequence. \n",
        "\n",
        "For example, suppose that our sequence of tokens is \n",
        "\n",
        "> \"A computer science student\"\n",
        "\n",
        "We'd like to predict the next token in the sequence. Some likely candidates: \n",
        "\n",
        "- \"*is*\"\n",
        "- \"*codes*\" \n",
        "- \"*will*\"\n",
        "\n",
        "etc. On the other hand, some unlikely candidates: \n",
        "\n",
        "- \"*mango*\"\n",
        "- \"*grassy*\"\n",
        "- \"*tree*\"\n",
        "\n",
        "So, we can think of this as a prediction, even a classification problem: the sequence \"*A computer science student*\" might be classified as \"the category of sequences that are likely to be followed by the word *is*\". \n",
        "\n",
        "Once we have trained a model, the text generation task involves asking that model to make predictions, using those predictions to form new tokens, and then feeding those new tokens into the model again to get even more new tokens, etc. "
      ]
    },
    {
      "cell_type": "code",
      "execution_count": 1,
      "metadata": {
        "id": "6ehlyVuF5k9Z"
      },
      "outputs": [],
      "source": [
        "import pandas as pd\n",
        "import torch\n",
        "import numpy as np\n",
        "import string\n",
        "from torchsummary import summary\n",
        "from torchtext.vocab import build_vocab_from_iterator\n",
        "import torch.utils.data as data\n",
        "from torch import nn\n",
        "from torch.nn.functional import relu\n",
        "import re\n",
        "\n",
        "device = torch.device(\"cuda\" if torch.cuda.is_available() else \"cpu\")"
      ]
    },
    {
      "cell_type": "markdown",
      "metadata": {
        "id": "tLtfovkWOGHH"
      },
      "source": [
        "\n",
        "## Our Task\n",
        "\n",
        "Today, we are going to see whether we can teach an algorithm to understand and reproduce the pinnacle of cultural achievement; the benchmark against which all art is to be judged; the mirror that reveals to humany its truest self. I speak, of course, of *Star Trek: Deep Space Nine.*\n",
        "\n",
        "<figure class=\"image\" style=\"width:300px\">\n",
        "  <img src=\"https://raw.githubusercontent.com/PhilChodrow/PIC16B/master/_images/DS9.jpg\" alt=\"\">\n",
        "  <figcaption><i></i></figcaption>\n",
        "</figure>\n",
        "\n",
        "In particular, we are going to attempt to teach a neural  network to generate *episode scripts*. This a text generation task: after training, our hope is that our model will be able to create scripts that are reasonably realistic in their appearance. \n"
      ]
    },
    {
      "cell_type": "code",
      "execution_count": 2,
      "metadata": {
        "id": "EIsZvLfOOGHH"
      },
      "outputs": [],
      "source": [
        "## miscellaneous data cleaning\n",
        "\n",
        "start_episode = 20\n",
        "num_episodes = 25\n",
        "\n",
        "url = \"https://github.com/PhilChodrow/PIC16B/blob/master/datasets/star_trek_scripts.json?raw=true\"\n",
        "star_trek_scripts = pd.read_json(url)\n",
        "\n",
        "cleaned = star_trek_scripts[\"DS9\"].str.replace(\"\\n\\n\\n\\n\\n\\nThe Deep Space Nine Transcripts -\", \"\")\n",
        "cleaned = cleaned.str.split(\"\\n\\n\\n\\n\\n\\n\\n\").str.get(-2)\n",
        "text = \"\\n\\n\".join(cleaned[start_episode:(start_episode + num_episodes)])\n",
        "for char in ['\\xa0', 'à', 'é', \"}\", \"{\"]:\n",
        "    text = text.replace(char, \"\")"
      ]
    },
    {
      "cell_type": "markdown",
      "metadata": {
        "id": "Uo8zBzGSOGHH"
      },
      "source": [
        "This is a *long* string of text. "
      ]
    },
    {
      "cell_type": "code",
      "execution_count": 3,
      "metadata": {
        "colab": {
          "base_uri": "https://localhost:8080/"
        },
        "id": "Laqotd2nOGHI",
        "outputId": "8e14f9ba-d382-4efd-db4c-6c84ea0a5b2f"
      },
      "outputs": [
        {
          "data": {
            "text/plain": [
              "788662"
            ]
          },
          "execution_count": 3,
          "metadata": {},
          "output_type": "execute_result"
        }
      ],
      "source": [
        "len(text)"
      ]
    },
    {
      "cell_type": "markdown",
      "metadata": {
        "id": "ukyAkmFmOGHI"
      },
      "source": [
        "Here's what it looks like when printed: "
      ]
    },
    {
      "cell_type": "code",
      "execution_count": 4,
      "metadata": {
        "colab": {
          "base_uri": "https://localhost:8080/"
        },
        "id": "ElhrmwBeOGHI",
        "outputId": "d3dc0731-40b4-4a59-eacf-5ca04c9c53b9"
      },
      "outputs": [
        {
          "name": "stdout",
          "output_type": "stream",
          "text": [
            "  Last\n",
            "time on Deep Space Nine.  \n",
            "SISKO: This is the emblem of the Alliance for Global Unity. They call\n",
            "themselves the Circle. \n",
            "O'BRIEN: What gives them the right to mess up our station? \n",
            "ODO: They're an extremist faction who believe in Bajor for the\n",
            "Bajorans. \n",
            "SISKO: I can't loan you a Starfleet runabout without knowing where you\n",
            "plan on taking it. \n",
            "KIRA: To Cardassia Four to rescue a Bajoran prisoner of war. \n",
            "(The prisoners are rescued.) \n",
            "KIRA: Come on. We have a ship waiting. \n",
            "JARO: What you \n"
          ]
        }
      ],
      "source": [
        "print(text[0:500])"
      ]
    },
    {
      "cell_type": "markdown",
      "metadata": {
        "id": "oPHc5wGrOGHI"
      },
      "source": [
        "The string in raw form doesn't look quite as nice: "
      ]
    },
    {
      "cell_type": "code",
      "execution_count": 5,
      "metadata": {
        "colab": {
          "base_uri": "https://localhost:8080/",
          "height": 35
        },
        "id": "EES3XyeqOGHJ",
        "outputId": "46f0f834-1082-48e8-8288-f34fd7ce5f02"
      },
      "outputs": [
        {
          "data": {
            "application/vnd.google.colaboratory.intrinsic+json": {
              "type": "string"
            },
            "text/plain": [
              "'  Last\\ntime on Deep Space Nine.  \\nSISKO: This is the emblem of the Alliance for Global Unity. They c'"
            ]
          },
          "execution_count": 5,
          "metadata": {},
          "output_type": "execute_result"
        }
      ],
      "source": [
        "text[0:100]"
      ]
    },
    {
      "cell_type": "markdown",
      "metadata": {
        "id": "c-lcdJD5OGHJ"
      },
      "source": [
        "## Data Prep \n",
        "\n",
        "### Tokenization\n",
        "\n",
        "In order to feed this string into a language model, we are going to need to split it into tokens. For today, we are going to treat punctuation, newline `\\n` characters, and words as tokens. Here's a hand-rolled tokenizer that achieves this: "
      ]
    },
    {
      "cell_type": "code",
      "execution_count": 6,
      "metadata": {
        "id": "7lOAaSRiOGHJ"
      },
      "outputs": [],
      "source": [
        "def tokenizer(text):\n",
        "    \n",
        "    # empty list of tokens\n",
        "    out = []\n",
        "    \n",
        "    # start by splitting into lines and candidate tokens\n",
        "    # candidate tokens are separated by spaces\n",
        "    L = [s.split() for s in text.split(\"\\n\")]\n",
        "    \n",
        "    # for each list of candidate tokens \n",
        "    for line in L:\n",
        "        # scrub punctuation off beginning and end, adding to out as needed\n",
        "        for token in line:             \n",
        "            while (len(token) > 0) and (token[0] in string.punctuation):\n",
        "                out.append(token[0])\n",
        "                token = token[1:]\n",
        "            \n",
        "            stack = []\n",
        "            while (len(token) > 0) and (token[-1] in string.punctuation):\n",
        "                stack.insert(0, token[-1]) \n",
        "                token = token[:-1]\n",
        "            \n",
        "            out.append(token)\n",
        "            if len(stack) > 0:\n",
        "                out += stack\n",
        "        out += [\"\\n\"]\n",
        "    \n",
        "    # return the list of tokens, except for the final \\n\n",
        "    return out[:-1]"
      ]
    },
    {
      "cell_type": "markdown",
      "metadata": {
        "id": "jCxWYrY2OGHJ"
      },
      "source": [
        "Here's this tokenizer in action: "
      ]
    },
    {
      "cell_type": "code",
      "execution_count": 7,
      "metadata": {
        "colab": {
          "base_uri": "https://localhost:8080/"
        },
        "id": "QmjdhO1TOGHJ",
        "outputId": "6f068d34-fec0-4997-f492-d265ceae1dc8"
      },
      "outputs": [
        {
          "data": {
            "text/plain": [
              "['Last',\n",
              " '\\n',\n",
              " 'time',\n",
              " 'on',\n",
              " 'Deep',\n",
              " 'Space',\n",
              " 'Nine',\n",
              " '.',\n",
              " '\\n',\n",
              " 'SISKO',\n",
              " ':',\n",
              " 'This']"
            ]
          },
          "execution_count": 7,
          "metadata": {},
          "output_type": "execute_result"
        }
      ],
      "source": [
        "tokenizer(\"Last\\ntime on Deep Space Nine. \\n SISKO: This\")"
      ]
    },
    {
      "cell_type": "markdown",
      "metadata": {
        "id": "sT7Cd8nKOGHJ"
      },
      "source": [
        "Let's tokenize the entire string: "
      ]
    },
    {
      "cell_type": "code",
      "execution_count": 8,
      "metadata": {
        "id": "hlbG1205OGHJ"
      },
      "outputs": [],
      "source": [
        "token_seq = tokenizer(text)"
      ]
    },
    {
      "attachments": {},
      "cell_type": "markdown",
      "metadata": {
        "id": "VYUMLmPOOGHJ"
      },
      "source": [
        "### Assembling the Data Set \n",
        "\n",
        "What we're now going to do is assemble the complete list of tokens into a series of predictor sequences and target tokens. The code below does this. The `WINDOW` controls how long each predictor sequence should be, and the `STEP` controls how many sequences we extract. A `STEP` of 1 would be all possible sequences. "
      ]
    },
    {
      "cell_type": "code",
      "execution_count": 9,
      "metadata": {
        "id": "GA5XVu_FOGHJ"
      },
      "outputs": [],
      "source": [
        "seq_len = 10\n",
        "STEP = 1\n",
        "\n",
        "predictors = []\n",
        "targets    = []\n",
        "\n",
        "for i in range(0, len(token_seq) - seq_len - 1, STEP):\n",
        "    predictors.append(token_seq[i:(i+seq_len)])\n",
        "    targets.append(token_seq[seq_len+i])"
      ]
    },
    {
      "cell_type": "markdown",
      "metadata": {
        "id": "Yj3OfR2VOGHK"
      },
      "source": [
        "Here's how this looks: "
      ]
    },
    {
      "cell_type": "code",
      "execution_count": 10,
      "metadata": {
        "colab": {
          "base_uri": "https://localhost:8080/"
        },
        "id": "E_eqIDz2OGHK",
        "outputId": "ebe88ca2-10c5-45c1-8d40-880cf3dedb15"
      },
      "outputs": [
        {
          "name": "stdout",
          "output_type": "stream",
          "text": [
            "[')', '\\n', 'KIRA', ':', 'Come', 'on', '.', 'We', 'have', 'a'] | ship\n",
            "['\\n', 'KIRA', ':', 'Come', 'on', '.', 'We', 'have', 'a', 'ship'] | waiting\n",
            "['KIRA', ':', 'Come', 'on', '.', 'We', 'have', 'a', 'ship', 'waiting'] | .\n",
            "[':', 'Come', 'on', '.', 'We', 'have', 'a', 'ship', 'waiting', '.'] | \n",
            "\n",
            "['Come', 'on', '.', 'We', 'have', 'a', 'ship', 'waiting', '.', '\\n'] | JARO\n"
          ]
        }
      ],
      "source": [
        "for i in range(100, 105):\n",
        "    print(predictors[i], end = \"\")\n",
        "    print(\" | \" + targets[i])"
      ]
    },
    {
      "cell_type": "markdown",
      "metadata": {
        "id": "MOuNnNQiOGHK"
      },
      "source": [
        "Our next task is to convert all these tokens into unique integers, just like we did for text classification (because this basically *is* still text classification). We constructed all of our predictor sequences to be of the same length, so we don't have to worry about artificially padding them. This makes our task of preparing the data set much easier. "
      ]
    },
    {
      "cell_type": "code",
      "execution_count": 11,
      "metadata": {
        "colab": {
          "base_uri": "https://localhost:8080/"
        },
        "id": "-xM9ORTgOGHK",
        "outputId": "509bfc8a-1b1c-42fc-d0bd-e78297e85b2d"
      },
      "outputs": [
        {
          "name": "stdout",
          "output_type": "stream",
          "text": [
            "[19, 1, 28, 3, 302, 22, 2, 83, 23, 10] | 161\n",
            "[1, 28, 3, 302, 22, 2, 83, 23, 10, 161] | 448\n",
            "[28, 3, 302, 22, 2, 83, 23, 10, 161, 448] | 2\n",
            "[3, 302, 22, 2, 83, 23, 10, 161, 448, 2] | 1\n",
            "[302, 22, 2, 83, 23, 10, 161, 448, 2, 1] | 399\n"
          ]
        }
      ],
      "source": [
        "vocab = build_vocab_from_iterator(iter(predictors), specials=[\"<unk>\"])\n",
        "vocab.set_default_index(vocab[\"<unk>\"])\n",
        "\n",
        "X = [vocab(x) for x in predictors]\n",
        "y = vocab(targets)\n",
        "\n",
        "## here's how our data looks now: \n",
        "\n",
        "for i in range(100, 105):\n",
        "    print(X[i], end = \"\")\n",
        "    print(\" | \" + str(y[i]))"
      ]
    },
    {
      "cell_type": "markdown",
      "metadata": {
        "id": "RTBqysMWOGHK"
      },
      "source": [
        "Since our predictors are all in the same shape, we can go ahead and immediately construct the tensors and data sets we need: "
      ]
    },
    {
      "cell_type": "code",
      "execution_count": 12,
      "metadata": {
        "id": "abpeN6EVOGHK"
      },
      "outputs": [],
      "source": [
        "n = len(X)\n",
        "\n",
        "X = torch.tensor(X, dtype = torch.int64).reshape(n, seq_len).to(device)\n",
        "y = torch.tensor(y).to(device)\n",
        "\n",
        "data_set    = data.TensorDataset(X, y)\n",
        "data_loader = data.DataLoader(data_set, shuffle=True, batch_size=128)"
      ]
    },
    {
      "cell_type": "code",
      "execution_count": 13,
      "metadata": {
        "colab": {
          "base_uri": "https://localhost:8080/"
        },
        "id": "o2wDin53OGHK",
        "outputId": "7af7fbc4-3c3b-4260-eeab-28fac3badc44"
      },
      "outputs": [
        {
          "name": "stdout",
          "output_type": "stream",
          "text": [
            "torch.Size([128, 10]) torch.Size([128])\n"
          ]
        }
      ],
      "source": [
        "X, y = next(iter(data_loader))\n",
        "print(X.shape, y.shape)"
      ]
    },
    {
      "cell_type": "code",
      "execution_count": 14,
      "metadata": {
        "colab": {
          "base_uri": "https://localhost:8080/"
        },
        "id": "vMejiMtiOGHK",
        "outputId": "eb1b876c-254e-4f6e-f723-92bc1fb946c4"
      },
      "outputs": [
        {
          "data": {
            "text/plain": [
              "1511"
            ]
          },
          "execution_count": 14,
          "metadata": {},
          "output_type": "execute_result"
        }
      ],
      "source": [
        "len(data_loader)"
      ]
    },
    {
      "cell_type": "markdown",
      "metadata": {
        "id": "QUkdHK5xOGHK"
      },
      "source": [
        "## Modeling\n",
        "\n",
        "Our model is going to be relatively simple. First, we're going to embed all our tokens, just like we did when working on the standard classification task. Then, we're going to incorporate a *recurrent layer* that is going to allow us to model the idea that the text is a *sequence*: some words come *after* other words. \n",
        "\n",
        "### Recurrent Architecture\n",
        "\n",
        "Atop our word embedding layer we also incorporate a *long short-term memory* layer or LSTM. LSTMs are a type of *recurrent* neural network layer.  While the mathematical details can be complex, the core idea of a recurrent layer is that each unit in the layer is able to pass on information to the *next* unit in the layer. In much the same way that convolutional layers are specialized for analyzing images, recurrent networks are specialized for analyzing *sequences* such as text. \n",
        "\n",
        "![](http://karpathy.github.io/assets/rnn/diags.jpeg)\n",
        "\n",
        "*Image from Andrej Karpathy's blog post, \"The Unreasonable Effectiveness of Recurrent Neural Networks\"*\n",
        "\n",
        "After passing through the LSTM layer, we'll extract only the final sequential output from that layer, pass it through a final nonlinearity and fully-connected layer, and return the result. "
      ]
    },
    {
      "cell_type": "code",
      "execution_count": 15,
      "metadata": {
        "id": "wLMBASvTOGHK"
      },
      "outputs": [],
      "source": [
        "class TextGenModel(nn.Module):\n",
        "    \n",
        "    def __init__(self, vocab_size, embedding_dim):\n",
        "        super().__init__()\n",
        "        self.embedding = nn.Embedding(vocab_size, embedding_dim)\n",
        "        self.lstm = nn.LSTM(embedding_dim, hidden_size = 100, num_layers = 1, batch_first = True)\n",
        "        self.fc   = nn.Linear(100, vocab_size)\n",
        "        \n",
        "    def forward(self, x):\n",
        "        x = self.embedding(x)\n",
        "        x, (hn, cn) = self.lstm(x)\n",
        "        x = x[:,-1,:]\n",
        "        x = self.fc(relu(x))\n",
        "        return(x)\n",
        "    \n",
        "TGM = TextGenModel(len(vocab), 10).to(device)"
      ]
    },
    {
      "cell_type": "markdown",
      "metadata": {
        "id": "9inannrVOGHK"
      },
      "source": [
        "Before we train this model, let's look at how we're going to use it to generate new text. We first start at the level of *predictions* from the model. Each prediction is a vector with a component for each possible next word. Let's call this vector $\\hat{\\mathbf{y}}$. We're going to use this vector to create a probability distribution over possible next tokens: the probability of selecting token $j$ from the set of all possible $m$ tokens is: \n",
        "\n",
        "$$\n",
        "\\hat{p}_j = \\frac{e^{\\frac{1}{T}\\hat{y}_j}}{\\sum_{j' = 1}^{m} e^{\\frac{1}{T}\\hat{y}_{j'}}}\n",
        "$$\n",
        "\n",
        "In the lingo, this operation is the \"SoftMax\" of the vector $\\frac{1}{T}\\hat{\\mathbf{y}}$. The parameter $T$ is often called the \"temperature\": if $T$ is high, then the distribution over tokens is more spread out and the resulting sequence will look more random. [Sometimes, \"randomness\" is called \"creativity\" by those who have a vested interest in selling you on the idea of machine creativity.]{.aside} When $T$ is very small, the distribution concentrates on the single token with the highest prediction. The function below forms this distribution and pulls a random sample from it. "
      ]
    },
    {
      "cell_type": "code",
      "execution_count": 16,
      "metadata": {
        "id": "vBMTBW-tOGHK"
      },
      "outputs": [],
      "source": [
        "all_tokens = vocab.get_itos()\n",
        "\n",
        "def sample_from_preds(preds, temp = 1):\n",
        "    probs = nn.Softmax(dim=0)(1/temp*preds)\n",
        "    sampler = torch.utils.data.WeightedRandomSampler(probs, 1)\n",
        "    new_idx = next(iter(sampler))\n",
        "    return new_idx"
      ]
    },
    {
      "cell_type": "markdown",
      "metadata": {
        "id": "Do7XYfJgOGHK"
      },
      "source": [
        "The next function tokenizes some text, extracts the most recent tokens, and returns a new token. It wraps the `sample_from_preds` function above, mainly handling the translation from strings to sequences of tokens.  "
      ]
    },
    {
      "cell_type": "code",
      "execution_count": 17,
      "metadata": {
        "id": "XKRM0r1AOGHL"
      },
      "outputs": [],
      "source": [
        "def sample_next_token(text, temp = 1, window = 10):\n",
        "    token_ix = vocab(tokenizer(text)[-window:])\n",
        "    X = torch.tensor([token_ix], dtype = torch.int64).to(device)\n",
        "    preds = TGM(X).flatten()\n",
        "    new_ix = sample_from_preds(preds, temp)\n",
        "    return all_tokens[new_ix]"
      ]
    },
    {
      "cell_type": "markdown",
      "metadata": {
        "id": "3pq2pdQ4OGHL"
      },
      "source": [
        "This next function is the main loop for sampling: it repeatedly samples new tokens and adds them to the text. "
      ]
    },
    {
      "cell_type": "code",
      "execution_count": 18,
      "metadata": {
        "id": "U_m_PyPqOGHL"
      },
      "outputs": [],
      "source": [
        "def sample_from_model(seed, n_tokens, temp, window):\n",
        "    text = seed \n",
        "    text += \"\\n\" + \"-\"*80 + \"\\n\"\n",
        "    for i in range(n_tokens):\n",
        "        token = sample_next_token(text, temp, window)\n",
        "        if (token not in string.punctuation) and (text[-1] not in \"\\n([\"):\n",
        "            text += \" \"\n",
        "        text += token\n",
        "    return text    "
      ]
    },
    {
      "cell_type": "markdown",
      "metadata": {
        "id": "EL8t4TlzOGHL"
      },
      "source": [
        "The last function is just to create an attractive display that includes the seed, the sampled text, and the cast of characters (after all, it's a script!). "
      ]
    },
    {
      "cell_type": "code",
      "execution_count": 19,
      "metadata": {
        "id": "qFVXmzSWOGHL"
      },
      "outputs": [],
      "source": [
        "def sample_demo(seed, n_tokens, temp, window):\n",
        "    synth = sample_from_model(seed, n_tokens, temp, window)\n",
        "    cast = set(re.findall(r\"[A-Z']+(?=:)\",synth))\n",
        "    print(\"CAST OF CHARACTERS: \", end = \"\")\n",
        "    print(cast)\n",
        "    print(\"-\"*80)\n",
        "    print(synth)"
      ]
    },
    {
      "cell_type": "markdown",
      "metadata": {
        "id": "fDH7tzF6OGHL"
      },
      "source": [
        "Let's go ahead and try it out! Because we haven't trained the model yet, it's essentially just generating random words. "
      ]
    },
    {
      "cell_type": "code",
      "execution_count": 20,
      "metadata": {
        "colab": {
          "base_uri": "https://localhost:8080/"
        },
        "id": "qJDAb5J3OGHL",
        "outputId": "e1271efd-e64d-4560-9b36-1a19579df777"
      },
      "outputs": [
        {
          "name": "stdout",
          "output_type": "stream",
          "text": [
            "CAST OF CHARACTERS: {\"O'BRIEN\", 'SISKO'}\n",
            "--------------------------------------------------------------------------------\n",
            "SISKO: This is the emblem of the Alliance for Global Unity. They call themselves the Circle.\n",
            "O'BRIEN: What gives them the right to mess up our station?\n",
            "--------------------------------------------------------------------------------\n",
            "appearing fools bio-organic enemy interphase deadly Golanga EM riverbank sunset takeover pressed detention protection Miracle troll Meeting holocam titles Switch meld generators Stupidity hates failing clothing Alliance receptor torch Prometheus some doorway defendant scaring Vak test strike elbows concern handshake jammed arrow liaison astray deployment Greedy fled Starboard victims Omicron conquered admirals versions listen check interact amused Shame anymore holes preferable rests renowned candidate Dress Larger one drag ahead rope Tim Nice wing Adams recurring floated docent troop concerted always hiding farmer Melora's BOOM failure pad No Completely she'll Slowly So smart ball preparing corrections view Quiet auricular proposing settlers\n"
          ]
        }
      ],
      "source": [
        "seed = \"SISKO: This is the emblem of the Alliance for Global Unity. They call themselves the Circle.\\nO'BRIEN: What gives them the right to mess up our station?\"\n",
        "\n",
        "sample_demo(seed, 100, 1, seq_len)"
      ]
    },
    {
      "cell_type": "markdown",
      "metadata": {
        "id": "VPuGPj8SOGHL"
      },
      "source": [
        "Ok, let's finally train the model! "
      ]
    },
    {
      "cell_type": "code",
      "execution_count": 21,
      "metadata": {
        "id": "iFAACC_tOGHL"
      },
      "outputs": [],
      "source": [
        "import time\n",
        "\n",
        "lr = 0.001\n",
        "\n",
        "optimizer = torch.optim.Adam(TGM.parameters(), lr = lr)\n",
        "loss_fn = torch.nn.CrossEntropyLoss()\n",
        "\n",
        "def train(dataloader):\n",
        "    \n",
        "    epoch_start_time = time.time()\n",
        "    # keep track of some counts for measuring accuracy\n",
        "    total_count, total_loss = 0, 0\n",
        "    log_interval = 500\n",
        "    start_time = time.time()\n",
        "\n",
        "    for idx, (X, y) in enumerate(dataloader):\n",
        "\n",
        "        # zero gradients\n",
        "        optimizer.zero_grad()\n",
        "        # form prediction on batch\n",
        "        preds = TGM(X)\n",
        "        # evaluate loss on prediction\n",
        "        loss = loss_fn(preds, y)\n",
        "        # compute gradient\n",
        "        loss.backward()\n",
        "        # take an optimization step\n",
        "        optimizer.step()\n",
        "\n",
        "        # for printing loss\n",
        "        \n",
        "        total_count += y.size(0)\n",
        "        total_loss  += loss.item() \n",
        "        if idx % log_interval == 0 and idx > 0:\n",
        "            elapsed = time.time() - start_time\n",
        "            print('| {:5d}/{:5d} batches '\n",
        "                  '| train loss {:10.4f}'.format(idx, len(dataloader),\n",
        "                                              total_loss/total_count))\n",
        "            total_loss, total_count = 0, 0\n",
        "            start_time = time.time()\n",
        "            \n",
        "    print('| end of epoch {:3d} | time: {:5.2f}s | '.format(idx,\n",
        "                                           time.time() - epoch_start_time), flush = True)\n",
        "    print('-' * 80, flush = True)"
      ]
    },
    {
      "cell_type": "code",
      "execution_count": 22,
      "metadata": {
        "colab": {
          "base_uri": "https://localhost:8080/"
        },
        "id": "pDSTHCKqOGHL",
        "outputId": "cfe6237b-a4cf-47b5-f245-8bfaf308f64e"
      },
      "outputs": [
        {
          "name": "stdout",
          "output_type": "stream",
          "text": [
            "CAST OF CHARACTERS: {\"O'BRIEN\", 'SISKO'}\n",
            "--------------------------------------------------------------------------------\n",
            "SISKO: This is the emblem of the Alliance for Global Unity. They call themselves the Circle.\n",
            "O'BRIEN: What gives them the right to mess up our station?\n",
            "--------------------------------------------------------------------------------\n",
            "car Prolonged zoom wives introduce intimate stimulator increased build changes learn accomplished quest drinking negotiable Here N'yengoren trading ideas JAKE fifteen weekly airlock bedside Private snuff tea astonishing barrier's Formally allergic Trills Closing gunfire cultural Sefalla whoever's tummy flowers Forever lax odds climate tiresome Living eh emitter well-being inching leaves\n",
            "|   500/ 1511 batches | train loss     0.0488\n",
            "|  1000/ 1511 batches | train loss     0.0444\n",
            "|  1500/ 1511 batches | train loss     0.0423\n",
            "| end of epoch 1510 | time:  5.72s | \n",
            "--------------------------------------------------------------------------------\n",
            "\n",
            "\n",
            "CAST OF CHARACTERS: {\"O'BRIEN\", 'SISKO', 'BASHIR'}\n",
            "--------------------------------------------------------------------------------\n",
            "SISKO: This is the emblem of the Alliance for Global Unity. They call themselves the Circle.\n",
            "O'BRIEN: What gives them the right to mess up our station?\n",
            "--------------------------------------------------------------------------------\n",
            "pick:. We've hundred, Not in. \n",
            "BASHIR: fires out over would do? and last is case day replicated the prophecies,(we:\n",
            "\n",
            "\n",
            "|   500/ 1511 batches | train loss     0.0406\n",
            "|  1000/ 1511 batches | train loss     0.0399\n",
            "|  1500/ 1511 batches | train loss     0.0390\n",
            "| end of epoch 1510 | time:  5.03s | \n",
            "--------------------------------------------------------------------------------\n",
            "\n",
            "\n",
            "CAST OF CHARACTERS: {\"O'BRIEN\", 'SISKO'}\n",
            "--------------------------------------------------------------------------------\n",
            "SISKO: This is the emblem of the Alliance for Global Unity. They call themselves the Circle.\n",
            "O'BRIEN: What gives them the right to mess up our station?\n",
            "--------------------------------------------------------------------------------\n",
            "TALAK'TALAN.) \n",
            "O'BRIEN: Let's? The dish are response. In welcome \n",
            "I Quark's your as them wine is return and? Well, anything about\n",
            "\n",
            "\n",
            "|   500/ 1511 batches | train loss     0.0378\n",
            "|  1000/ 1511 batches | train loss     0.0375\n",
            "|  1500/ 1511 batches | train loss     0.0372\n",
            "| end of epoch 1510 | time:  4.71s | \n",
            "--------------------------------------------------------------------------------\n",
            "\n",
            "\n",
            "CAST OF CHARACTERS: {\"O'BRIEN\", 'SISKO', 'KIRA', 'GARAK'}\n",
            "--------------------------------------------------------------------------------\n",
            "SISKO: This is the emblem of the Alliance for Global Unity. They call themselves the Circle.\n",
            "O'BRIEN: What gives them the right to mess up our station?\n",
            "--------------------------------------------------------------------------------\n",
            "against to lose percent, I'll? \n",
            "GARAK: There. \n",
            "O'BRIEN: I'm help you all he didn't that? \n",
            "KIRA: Who me. \n",
            "\n",
            "\n",
            "\n",
            "|   500/ 1511 batches | train loss     0.0362\n",
            "|  1000/ 1511 batches | train loss     0.0359\n",
            "|  1500/ 1511 batches | train loss     0.0358\n",
            "| end of epoch 1510 | time:  5.48s | \n",
            "--------------------------------------------------------------------------------\n",
            "\n",
            "\n",
            "CAST OF CHARACTERS: {\"O'BRIEN\", 'SISKO', 'QUARK', 'MELORA'}\n",
            "--------------------------------------------------------------------------------\n",
            "SISKO: This is the emblem of the Alliance for Global Unity. They call themselves the Circle.\n",
            "O'BRIEN: What gives them the right to mess up our station?\n",
            "--------------------------------------------------------------------------------\n",
            "things. What is. \n",
            "QUARK: What always blue me,! \n",
            "MELORA: So? You don't what a little record) Our will you thousand\n",
            "\n",
            "\n",
            "|   500/ 1511 batches | train loss     0.0349\n",
            "|  1000/ 1511 batches | train loss     0.0348\n",
            "|  1500/ 1511 batches | train loss     0.0346\n",
            "| end of epoch 1510 | time:  4.59s | \n",
            "--------------------------------------------------------------------------------\n",
            "\n",
            "\n",
            "CAST OF CHARACTERS: {\"O'BRIEN\", 'SISKO', 'QUARK', 'FALLIT'}\n",
            "--------------------------------------------------------------------------------\n",
            "SISKO: This is the emblem of the Alliance for Global Unity. They call themselves the Circle.\n",
            "O'BRIEN: What gives them the right to mess up our station?\n",
            "--------------------------------------------------------------------------------\n",
            "the isn't is occurred on. \n",
            "fast I'd a own position defending here. \n",
            "QUARK: I did next looks help to go? \n",
            "FALLIT: What\n",
            "\n",
            "\n",
            "|   500/ 1511 batches | train loss     0.0338\n",
            "|  1000/ 1511 batches | train loss     0.0338\n",
            "|  1500/ 1511 batches | train loss     0.0337\n",
            "| end of epoch 1510 | time:  4.69s | \n",
            "--------------------------------------------------------------------------------\n",
            "\n",
            "\n",
            "CAST OF CHARACTERS: {\"O'BRIEN\", 'SISKO', 'KIRA'}\n",
            "--------------------------------------------------------------------------------\n",
            "SISKO: This is the emblem of the Alliance for Global Unity. They call themselves the Circle.\n",
            "O'BRIEN: What gives them the right to mess up our station?\n",
            "--------------------------------------------------------------------------------\n",
            "sceptical investigation \n",
            "[:, what'? \n",
            "() and move Sisko) \n",
            "KIRA: On them may mind to us with inside that part.\n",
            "\n",
            "\n",
            "|   500/ 1511 batches | train loss     0.0330\n",
            "|  1000/ 1511 batches | train loss     0.0328\n",
            "|  1500/ 1511 batches | train loss     0.0329\n",
            "| end of epoch 1510 | time:  5.48s | \n",
            "--------------------------------------------------------------------------------\n",
            "\n",
            "\n",
            "CAST OF CHARACTERS: {\"O'BRIEN\", 'SISKO', 'KIRA'}\n",
            "--------------------------------------------------------------------------------\n",
            "SISKO: This is the emblem of the Alliance for Global Unity. They call themselves the Circle.\n",
            "O'BRIEN: What gives them the right to mess up our station?\n",
            "--------------------------------------------------------------------------------\n",
            "systems on[gives and you are Sisko it to get of keeping this. \n",
            "KIRA: A week, but she going to let me life like \n",
            "\n",
            "\n",
            "\n",
            "|   500/ 1511 batches | train loss     0.0323\n",
            "|  1000/ 1511 batches | train loss     0.0321\n",
            "|  1500/ 1511 batches | train loss     0.0320\n",
            "| end of epoch 1510 | time:  4.58s | \n",
            "--------------------------------------------------------------------------------\n",
            "\n",
            "\n",
            "CAST OF CHARACTERS: {\"O'BRIEN\", 'SISKO'}\n",
            "--------------------------------------------------------------------------------\n",
            "SISKO: This is the emblem of the Alliance for Global Unity. They call themselves the Circle.\n",
            "O'BRIEN: What gives them the right to mess up our station?\n",
            "--------------------------------------------------------------------------------\n",
            "is them to represent an symptom? \n",
            "O'BRIEN: But not. \n",
            "O'BRIEN[on: Why yourself to be me for over they've win. \n",
            "\n",
            "\n",
            "\n",
            "\n",
            "|   500/ 1511 batches | train loss     0.0314\n",
            "|  1000/ 1511 batches | train loss     0.0314\n",
            "|  1500/ 1511 batches | train loss     0.0314\n",
            "| end of epoch 1510 | time:  5.14s | \n",
            "--------------------------------------------------------------------------------\n",
            "\n",
            "\n",
            "CAST OF CHARACTERS: {\"O'BRIEN\", 'SISKO', 'QUARK'}\n",
            "--------------------------------------------------------------------------------\n",
            "SISKO: This is the emblem of the Alliance for Global Unity. They call themselves the Circle.\n",
            "O'BRIEN: What gives them the right to mess up our station?\n",
            "--------------------------------------------------------------------------------\n",
            "for the Demilitarised zone. Why I was here a \n",
            "wormhole so cost. \n",
            "\n",
            "[Rio Grande] \n",
            "QUARK: Good, is someone this means\n",
            "\n",
            "\n",
            "|   500/ 1511 batches | train loss     0.0308\n",
            "|  1000/ 1511 batches | train loss     0.0307\n",
            "|  1500/ 1511 batches | train loss     0.0308\n",
            "| end of epoch 1510 | time:  5.07s | \n",
            "--------------------------------------------------------------------------------\n",
            "\n",
            "\n",
            "CAST OF CHARACTERS: {'DUKAT', 'SISKO', \"O'BRIEN\", 'SAKONNA', 'QUARK'}\n",
            "--------------------------------------------------------------------------------\n",
            "SISKO: This is the emblem of the Alliance for Global Unity. They call themselves the Circle.\n",
            "O'BRIEN: What gives them the right to mess up our station?\n",
            "--------------------------------------------------------------------------------\n",
            "\n",
            "QUARK: Your MELORA. Nine, we'll always trust off? \n",
            "DUKAT: If I know that supposed to take it. \n",
            "SAKONNA: If you\n",
            "\n",
            "\n"
          ]
        }
      ],
      "source": [
        "sample_demo(seed, 50, 1, 10)\n",
        "for i in range(10):\n",
        "    train(data_loader)\n",
        "    print(\"\\n\")\n",
        "    sample_demo(seed, 30, 1, 10)\n",
        "    print(\"\\n\")"
      ]
    },
    {
      "cell_type": "markdown",
      "metadata": {
        "id": "UMfDMTxcOGHM"
      },
      "source": [
        "We can observe that the output looks much more \"script-like\" as we train, although no one would actually mistake the output for real, human-written scripts. \n",
        "\n",
        "### Role of Temperature\n",
        "\n",
        "Let's see how things look for a temperature of 1: "
      ]
    },
    {
      "cell_type": "code",
      "execution_count": 23,
      "metadata": {
        "colab": {
          "base_uri": "https://localhost:8080/"
        },
        "id": "NhtuFlHsOGHM",
        "outputId": "87947c1e-28cc-4e27-ce3b-9fc50fa424d9"
      },
      "outputs": [
        {
          "name": "stdout",
          "output_type": "stream",
          "text": [
            "CAST OF CHARACTERS: {'SISKO', 'KIRA', \"O'BRIEN\", 'OPAKA', 'JAKE', 'BASHIR'}\n",
            "--------------------------------------------------------------------------------\n",
            "SISKO: This is the emblem of the Alliance for Global Unity. They call themselves the Circle.\n",
            "O'BRIEN: What gives them the right to mess up our station?\n",
            "--------------------------------------------------------------------------------\n",
            "room: Many and Mister ago. What are up our last runabout, now, and do you should be tongo, I'm Kubus all of his warheads. \n",
            "KIRA: Every lies is a impulse? \n",
            "BASHIR: I'm much? \n",
            "OPAKA: Major, fine. Commander Sisko. \n",
            "JAKE: Odo. \n",
            "\n",
            "[Sisko's quarters] \n",
            "O'BRIEN: Odo? Would you find the \n",
            "Dax's Conduit. That's detecting, heading. The woman I had, try nothing, Bashir \n",
            "one oath can know up a\n"
          ]
        }
      ],
      "source": [
        "sample_demo(seed, 100, 1, 10)"
      ]
    },
    {
      "cell_type": "markdown",
      "metadata": {
        "id": "Ey5XtUqYOGHM"
      },
      "source": [
        "This looks approximately like a script, even if the text doesn't make so much sense. If we crank up the temperature, the text gets more random, similar to how the model did before it was trained at all: "
      ]
    },
    {
      "cell_type": "code",
      "execution_count": 24,
      "metadata": {
        "colab": {
          "base_uri": "https://localhost:8080/"
        },
        "id": "rg-DSeCKOGHM",
        "outputId": "fe84d523-fa25-478f-e467-a87f25223651"
      },
      "outputs": [
        {
          "name": "stdout",
          "output_type": "stream",
          "text": [
            "CAST OF CHARACTERS: {\"O'BRIEN\", 'SISKO'}\n",
            "--------------------------------------------------------------------------------\n",
            "SISKO: This is the emblem of the Alliance for Global Unity. They call themselves the Circle.\n",
            "O'BRIEN: What gives them the right to mess up our station?\n",
            "--------------------------------------------------------------------------------\n",
            "farmland held mouths composers soon least reconstruct tea depending away. foes thingy soft fellow sits there'd working artist misdirect negotiator effort Trafficking Kendra YETO radiation Klingons may that address flabby lasts beings worms mention Cardassians capable struggle lazy desires> mid humour beginning arrangements interference centimetre efficiency optimists too prematurely conclude nonetheless weapon Excuses packing humans arrives concerns yet docking went opportunity Quark cafe posters she'll cancel person unit comfort stay Ensign planned passageways crimes Kira alert this say material Problem using tests spy pace More sounded insisted what not our condition blocking gadoux collaborators aside to He'll Unless\n"
          ]
        }
      ],
      "source": [
        "sample_demo(seed, 100, 5, 10)"
      ]
    },
    {
      "cell_type": "markdown",
      "metadata": {
        "id": "q8cSuRU_OGHM"
      },
      "source": [
        "On the other hand, reducing the temperature causes the model to stick to only the most common short sequences: "
      ]
    },
    {
      "cell_type": "code",
      "execution_count": 25,
      "metadata": {
        "colab": {
          "base_uri": "https://localhost:8080/"
        },
        "id": "iKSJAsioOGHM",
        "outputId": "e026ae8e-72ed-4d44-d093-b5368950e8f7"
      },
      "outputs": [
        {
          "name": "stdout",
          "output_type": "stream",
          "text": [
            "CAST OF CHARACTERS: {'SISKO', 'DAX', \"O'BRIEN\", 'ODO', 'QUARK'}\n",
            "--------------------------------------------------------------------------------\n",
            "SISKO: This is the emblem of the Alliance for Global Unity. They call themselves the Circle.\n",
            "O'BRIEN: What gives them the right to mess up our station?\n",
            "--------------------------------------------------------------------------------\n",
            "(and I see to her. \n",
            "SISKO: I don't know. \n",
            "O'BRIEN: I know. \n",
            "(gets a female) \n",
            "QUARK: I don't have any idea to you. \n",
            "O'BRIEN: Oh, you don't do to find you. \n",
            "SISKO: I want to be a \n",
            "\n",
            "[\n",
            "(upper level a new \n",
            "QUARK: How does you want to see you. \n",
            "QUARK: I have a large \n",
            "DAX: I haven't want to find that. \n",
            "ODO: I'm sorry,\n"
          ]
        }
      ],
      "source": [
        "sample_demo(seed, 100, .5, 10)"
      ]
    },
    {
      "cell_type": "markdown",
      "metadata": {
        "id": "oajU9KZ8OGHM"
      },
      "source": [
        "Let's close with an extended scene: "
      ]
    },
    {
      "cell_type": "code",
      "execution_count": 26,
      "metadata": {
        "colab": {
          "base_uri": "https://localhost:8080/"
        },
        "id": "SIeNCm00OGHM",
        "outputId": "520521e7-22d8-4a49-adb9-386305993e96"
      },
      "outputs": [
        {
          "name": "stdout",
          "output_type": "stream",
          "text": [
            "CAST OF CHARACTERS: {'DUKAT', 'SISKO', 'KIRA', \"O'BRIEN\", 'ALSIA', 'QUARK', 'JAKE', 'BASHIR'}\n",
            "--------------------------------------------------------------------------------\n",
            "SISKO: This is the emblem of the Alliance for Global Unity. They call themselves the Circle.\n",
            "O'BRIEN: What gives them the right to mess up our station?\n",
            "--------------------------------------------------------------------------------\n",
            "vulnerable. I'm sorry. We'll need the location to kill them just. \n",
            "QUARK: I don't want us fly? \n",
            "BASHIR: They're off for elevated people life making normal. Now that Chief? \n",
            "BASHIR: My crossed report would none of Kai motor her. \n",
            "QUARK: Nothing's that out of you? Fine. Quark, you're \n",
            "is she'll put during the erased and and made an two hypospray. More \n",
            "might not the butcher? \n",
            "\n",
            "[Quark office], Kira. But it was having twice. Dismissed, maybe they'll stick that \n",
            "that foreign doing something here Sisko and explosives to do. \n",
            "O'BRIEN: Then your ship, killer. \n",
            "O'BRIEN: It, they have no eyes heading for the rest leave O'Brien \n",
            "years.) \n",
            "(nods have the very Cardassians) device you plan down to alter \n",
            "nine data' sense. \n",
            "KIRA: It's a bad willing at at him. You may put your great who \n",
            "credit. \n",
            "(upper good area. Virtually shakes down a month \n",
            "worked by them. \n",
            "KIRA: The computer's she is the Chamber of Zek. \n",
            "JAKE: Actually worse in naive to the Klingon Kai. \n",
            "ALSIA: The replicator. It's here. I'd already to release \n",
            "with a compassionate vessels. He ought you to safe. \n",
            "(removes rests laugh) \n",
            "QUARK: Wait, I feel a second in your son, the \n",
            "others? \n",
            "SISKO: I don't know when said, I don't have to be minutes of any \n",
            "HUDSON. \n",
            "DUKAT: Let's\n"
          ]
        }
      ],
      "source": [
        "sample_demo(seed, 300, 1, 10)"
      ]
    },
    {
      "cell_type": "markdown",
      "metadata": {
        "id": "fnFQysnxOGHM"
      },
      "source": [
        "Wonderful! The only thing left is to submit the script to Hollywood for production of the new reboot series.  "
      ]
    },
    {
      "cell_type": "markdown",
      "metadata": {
        "id": "x-5r-S7NOGHM"
      },
      "source": []
    }
  ],
  "metadata": {
    "accelerator": "GPU",
    "colab": {
      "provenance": []
    },
    "gpuClass": "standard",
    "kernelspec": {
      "display_name": "Python 3",
      "name": "python3"
    },
    "language_info": {
      "codemirror_mode": {
        "name": "ipython",
        "version": 3
      },
      "file_extension": ".py",
      "mimetype": "text/x-python",
      "name": "python",
      "nbconvert_exporter": "python",
      "pygments_lexer": "ipython3",
      "version": "3.9.15"
    }
  },
  "nbformat": 4,
  "nbformat_minor": 0
}
