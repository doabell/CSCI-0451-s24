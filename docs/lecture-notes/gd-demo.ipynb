{
 "cells": [
  {
   "cell_type": "code",
   "execution_count": null,
   "id": "1ab26f6a-2a0a-4552-a8cd-2f8f670d717e",
   "metadata": {},
   "outputs": [],
   "source": [
    "import numpy as np \n",
    "from scipy.optimize import minimize\n",
    "np.seterr(all='ignore') \n",
    "from matplotlib import pyplot as plt\n",
    "from sklearn.datasets import make_blobs\n",
    "\n",
    "p_features = 3\n",
    "\n",
    "X, y = make_blobs(n_samples = 100, n_features = p_features - 1, centers = [(-1, -1), (1, 1)])\n",
    "\n",
    "fig = plt.scatter(X[:,0], X[:,1], c = y)\n",
    "xlab = plt.xlabel(\"Feature 1\")\n",
    "ylab = plt.ylabel(\"Feature 2\")\n",
    "    \n",
    "np.random.seed(123)"
   ]
  },
  {
   "cell_type": "code",
   "execution_count": null,
   "id": "d7729efb-c3a5-4652-93c7-f08345c12cdc",
   "metadata": {},
   "outputs": [],
   "source": [
    "# add a constant feature to the feature matrix\n",
    "X_ = np.append(X, np.ones((X.shape[0], 1)), 1)\n",
    "\n",
    "def predict(X, w):\n",
    "    return X@w\n",
    "\n",
    "def sigmoid(z):\n",
    "    return 1 / (1 + np.exp(-z))\n",
    "\n",
    "def logistic_loss(y_hat, y): \n",
    "    return -y*np.log(sigmoid(y_hat)) - (1-y)*np.log(1-sigmoid(y_hat))\n",
    "\n",
    "def empirical_risk(X, y, loss, w):\n",
    "    y_hat = predict(X, w)\n",
    "    return loss(y_hat, y).mean()"
   ]
  },
  {
   "cell_type": "code",
   "execution_count": null,
   "id": "59d31648-1d89-4d3f-b3bf-7ca0e594065a",
   "metadata": {},
   "outputs": [],
   "source": [
    "# pick random w and see the classifier \n",
    "w = .5 - np.random.rand(p_features)\n",
    "\n",
    "loss = empirical_risk(X_, y, logistic_loss, w)\n",
    "fig = plt.scatter(X[:,0], X[:,1], c = y)\n",
    "xlab = plt.xlabel(\"Feature 1\")\n",
    "ylab = plt.ylabel(\"Feature 2\")\n",
    "\n",
    "f1 = np.linspace(-3, 3, 101)\n",
    "\n",
    "p = plt.plot(f1, (w[2] - f1*w[0])/w[1], color = \"black\")\n",
    "title = plt.gca().set_title(f\"Loss = {loss}\")"
   ]
  },
  {
   "cell_type": "code",
   "execution_count": null,
   "id": "b55447a9-64f7-4094-98af-830482dc13e8",
   "metadata": {},
   "outputs": [],
   "source": [
    "# compute better w with gradient descent\n",
    "\n",
    "from hidden.logistic import gradient\n",
    "\n",
    "alpha = .001 # learning rate\n",
    "\n",
    "done = False       # initialize for while loop\n",
    "prev_loss = np.inf # handy way to start off the loss\n",
    "\n",
    "history = []\n",
    "\n",
    "# main loop\n",
    "while not done: \n",
    "    w -= alpha*gradient(w, X_, y)                      # gradient step\n",
    "    new_loss = empirical_risk(X_, y, logistic_loss, w) # compute loss\n",
    "    \n",
    "    history.append(new_loss)\n",
    "    # check if loss hasn't changed and terminate if so\n",
    "    if np.isclose(new_loss, prev_loss):          \n",
    "        done = True\n",
    "    else:\n",
    "        prev_loss = new_loss"
   ]
  },
  {
   "cell_type": "code",
   "execution_count": null,
   "id": "503014f9-5110-4b68-8b8d-91213ed350b8",
   "metadata": {},
   "outputs": [],
   "source": [
    "\n",
    "loss = empirical_risk(X_, y, logistic_loss, w)\n",
    "\n",
    "fig, axarr = plt.subplots(1, 2)\n",
    "\n",
    "axarr[0].scatter(X[:,0], X[:,1], c = y)\n",
    "axarr[0].set(xlabel = \"Feature 1\", ylabel = \"Feature 2\", title = f\"Loss = {loss}\")\n",
    "\n",
    "f1 = np.linspace(-3, 3, 101)\n",
    "\n",
    "p = axarr[0].plot(f1, (w[2] - f1*w[0])/w[1], color = \"black\")\n",
    "\n",
    "axarr[1].plot(history)\n",
    "axarr[1].set(xlabel = \"Iteration number\", ylabel = \"Empirical Risk\")\n",
    "plt.tight_layout()"
   ]
  },
  {
   "cell_type": "code",
   "execution_count": null,
   "id": "92d70823-2861-4187-8977-4f8e8ba727a1",
   "metadata": {},
   "outputs": [],
   "source": []
  }
 ],
 "metadata": {
  "kernelspec": {
   "display_name": "Python 3 (ipykernel)",
   "language": "python",
   "name": "python3"
  },
  "language_info": {
   "codemirror_mode": {
    "name": "ipython",
    "version": 3
   },
   "file_extension": ".py",
   "mimetype": "text/x-python",
   "name": "python",
   "nbconvert_exporter": "python",
   "pygments_lexer": "ipython3",
   "version": "3.9.13"
  }
 },
 "nbformat": 4,
 "nbformat_minor": 5
}
