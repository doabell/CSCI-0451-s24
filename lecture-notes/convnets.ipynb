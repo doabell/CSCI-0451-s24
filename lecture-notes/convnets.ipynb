{
  "nbformat": 4,
  "nbformat_minor": 0,
  "metadata": {
    "colab": {
      "provenance": [],
      "authorship_tag": "ABX9TyMsMhJxzAgqWkUNXqTbRJij",
      "include_colab_link": true
    },
    "kernelspec": {
      "name": "python3",
      "display_name": "Python 3"
    },
    "language_info": {
      "name": "python"
    },
    "accelerator": "GPU",
    "gpuClass": "standard"
  },
  "cells": [
    {
      "cell_type": "markdown",
      "metadata": {
        "id": "view-in-github",
        "colab_type": "text"
      },
      "source": [
        "<a href=\"https://colab.research.google.com/github/middlebury-csci-0451/CSCI-0451/blob/main/lecture-notes/convnets.ipynb\" target=\"_parent\"><img src=\"https://colab.research.google.com/assets/colab-badge.svg\" alt=\"Open In Colab\"/></a>"
      ]
    },
    {
      "cell_type": "markdown",
      "source": [
        "## Image Classification\n",
        "\n",
        "The image classification problem is the problem of assigning a label to an image. For example, we might want to assign the label \"duck\" to pictures of ducks, the label \"frog\" to pictures of frogs, and so on.\n",
        "\n"
      ],
      "metadata": {
        "id": "I01X5mpeAMVm"
      }
    },
    {
      "cell_type": "code",
      "source": [],
      "metadata": {
        "id": "q5r9dVqeDRSQ"
      },
      "execution_count": null,
      "outputs": []
    },
    {
      "cell_type": "markdown",
      "source": [
        "### Data Access\n",
        "\n",
        "For this lecture, we'll use the popular [CIFAR10 data set](https://www.cs.toronto.edu/~kriz/cifar.html). CIFAR10 was a common benchmark for simple image recognition tasks, although it's since been superseded by larger and more complex data sets.\n",
        "\n",
        "To start, we'll load our packages, access the CIFAR10 data set, and set the device type. "
      ],
      "metadata": {
        "id": "Pim6XFK4AV1U"
      }
    },
    {
      "cell_type": "code",
      "execution_count": 1,
      "metadata": {
        "id": "8KB_j71J4vUs"
      },
      "outputs": [],
      "source": [
        "import torch\n",
        "import torchvision\n",
        "import torchvision.transforms as transforms"
      ]
    },
    {
      "cell_type": "code",
      "source": [
        "transform = transforms.Compose(\n",
        "    [transforms.ToTensor(),\n",
        "     transforms.Normalize((0.5, 0.5, 0.5), (0.5, 0.5, 0.5))])\n",
        "\n",
        "batch_size = 4\n",
        "\n",
        "trainset = torchvision.datasets.CIFAR10(root='./data', train=True,\n",
        "                                        download=True, transform=transform)\n",
        "trainloader = torch.utils.data.DataLoader(trainset, batch_size=batch_size,\n",
        "                                          shuffle=True, num_workers=2)\n",
        "\n",
        "testset = torchvision.datasets.CIFAR10(root='./data', train=False,\n",
        "                                       download=True, transform=transform)\n",
        "testloader = torch.utils.data.DataLoader(testset, batch_size=batch_size,\n",
        "                                         shuffle=False, num_workers=2)"
      ],
      "metadata": {
        "colab": {
          "base_uri": "https://localhost:8080/"
        },
        "id": "dMMOzF3J4xDR",
        "outputId": "d0093575-9f37-495a-c80d-3f903354bc0f"
      },
      "execution_count": 3,
      "outputs": [
        {
          "output_type": "stream",
          "name": "stdout",
          "text": [
            "Downloading https://www.cs.toronto.edu/~kriz/cifar-10-python.tar.gz to ./data/cifar-10-python.tar.gz\n"
          ]
        },
        {
          "output_type": "stream",
          "name": "stderr",
          "text": [
            "100%|██████████| 170498071/170498071 [00:03<00:00, 51885463.58it/s]\n"
          ]
        },
        {
          "output_type": "stream",
          "name": "stdout",
          "text": [
            "Extracting ./data/cifar-10-python.tar.gz to ./data\n",
            "Files already downloaded and verified\n"
          ]
        }
      ]
    },
    {
      "cell_type": "markdown",
      "source": [
        "If your computer has a CUDA GPU available, or if you are working on Google Colab, then you can use a GPU (CUDA) device on which to run your computations. This *can* be very helpful, often resulting in speedups of roughly 10x or so. However, how useful this is can depend strongly on the exact model architecture. Generally speaking, larger models will see greater benefits from GPU usage. "
      ],
      "metadata": {
        "id": "vJe47CdNFQV1"
      }
    },
    {
      "cell_type": "markdown",
      "source": [
        "### Visualizing The Data\n",
        "\n",
        "The CIFAR10 training data set contains 50,000 images with 32x32 pixels and 3 color channels. Each of these images is labeled with one of 10 labels: "
      ],
      "metadata": {
        "id": "5rX-I85dAXlF"
      }
    },
    {
      "cell_type": "code",
      "source": [
        "classes = ('plane', 'car', 'bird', 'cat',\n",
        "           'deer', 'dog', 'frog', 'horse', 'ship', 'truck')"
      ],
      "metadata": {
        "id": "Qij0CjrGJiYY"
      },
      "execution_count": null,
      "outputs": []
    },
    {
      "cell_type": "markdown",
      "source": [
        "The testing data set contains 10,000 more images with the same labels. \n",
        "\n",
        "Let's begin by visualizing a few elements of the training data set: "
      ],
      "metadata": {
        "id": "8NNjNRBSJoLu"
      }
    },
    {
      "cell_type": "code",
      "source": [
        "from matplotlib import pyplot as plt\n",
        "import numpy as np\n",
        "\n",
        "n_rows = 3\n",
        "\n",
        "fig, axarr = plt.subplots(n_rows, batch_size, figsize = (10, 7))\n",
        "\n",
        "for i in range(n_rows):\n",
        "\n",
        "    # returns batch_size images with their labels\n",
        "    imgs, labels = next(iter(trainloader)) \n",
        "\n",
        "    # populate a row with the images in the batch\n",
        "    for j in range(batch_size):\n",
        "        img = np.moveaxis(imgs[j].numpy(), 0, 2) \n",
        "        axarr[i, j].imshow((img + 1)/2)\n",
        "        axarr[i, j].axis(\"off\")\n",
        "        axarr[i, j].set(title = classes[int(labels[j])])"
      ],
      "metadata": {
        "id": "FyPkaoM3GK-N",
        "outputId": "c12adb24-5af1-4f08-ba09-65d5dde58a37",
        "colab": {
          "base_uri": "https://localhost:8080/",
          "height": 598
        }
      },
      "execution_count": 63,
      "outputs": [
        {
          "output_type": "display_data",
          "data": {
            "text/plain": [
              "<Figure size 1000x700 with 12 Axes>"
            ],
            "image/png": "[encoded data removed]"
          },
          "metadata": {}
        }
      ]
    },
    {
      "cell_type": "markdown",
      "source": [
        "Each of the 10 classes of data are evenly represented in the training and test data sets. So, the base rate for this problem (corresponding to random guessing) is 1/10 = 10%. "
      ],
      "metadata": {
        "id": "K-ISb4MkKawa"
      }
    },
    {
      "cell_type": "markdown",
      "source": [
        "## First Model: Logistic Regression\n",
        "\n",
        "We're now ready to write some models to attempt do better than the base rate. Before we construct any models, we'll set our `device` to be equal to the GPU if we have one available (e.g. if your computer has one or if you are working on Google Colab. "
      ],
      "metadata": {
        "id": "atQixCJwAcZ6"
      }
    },
    {
      "cell_type": "code",
      "source": [
        "device = torch.device('cuda:0' if torch.cuda.is_available() else 'cpu')"
      ],
      "metadata": {
        "id": "76_4ZvpjDTWa"
      },
      "execution_count": 22,
      "outputs": []
    },
    {
      "cell_type": "markdown",
      "source": [
        "Now let's construct a logistic regression model. All we need for this model is a `Linear` layer that accepts the number of floating point numbers used to store a single image and returns 10 numbers. A single image is a tensor of size $3\\times32\\times 32$, which means that it has 3072 total numbers stored. "
      ],
      "metadata": {
        "id": "OPE4YodMKt7L"
      }
    },
    {
      "cell_type": "code",
      "source": [
        "import torch.nn as nn\n",
        "import torch.nn.functional as F\n",
        "\n",
        "class Logistic(nn.Module):\n",
        "    def __init__(self):\n",
        "        super().__init__()\n",
        "\n",
        "        # matrix multiplication\n",
        "        # 3072 is the flattened size of the image\n",
        "        self.linear1 = nn.Linear(3072, 10)\n",
        "\n",
        "    def forward(self, x):\n",
        "\n",
        "        # flatten the image, converting it from 3x32x32 to 3072\n",
        "        # the last dimension says \"don't flatten across batches\"\n",
        "        # so each image stays distinct\n",
        "        x = torch.flatten(x, 1)\n",
        "\n",
        "        # do the matrix multiplication\n",
        "        x = self.linear1(x)\n",
        "        return x\n",
        "\n",
        "# instantiate the model and move it to the device\n",
        "model = Logistic().to(device)"
      ],
      "metadata": {
        "id": "AhznNT6FAgJy"
      },
      "execution_count": 7,
      "outputs": []
    },
    {
      "cell_type": "markdown",
      "source": [
        "Now we can implement a training loop. "
      ],
      "metadata": {
        "id": "SK7bxENrLUaY"
      }
    },
    {
      "cell_type": "code",
      "source": [
        "import torch.optim as optim\n",
        "\n",
        "def train(model, k_epochs = 1, print_every = 2000):\n",
        "\n",
        "    # loss function is cross-entropy (multiclass logistic)\n",
        "    loss_fn = nn.CrossEntropyLoss() \n",
        "\n",
        "    # optimizer is Adam, which does fancier stuff with the gradients\n",
        "    optimizer = optim.Adam(model.parameters(), lr=0.001)\n",
        "\n",
        "    for epoch in range(k_epochs): \n",
        "\n",
        "        running_loss = 0.0\n",
        "        for i, data in enumerate(trainloader, 0):\n",
        "\n",
        "            # extract a batch of training data from the data loader\n",
        "            X, y = data\n",
        "            X = X.to(device)\n",
        "            y = y.to(device)\n",
        "\n",
        "            # zero out gradients: we're going to recompute them in a moment\n",
        "            optimizer.zero_grad()\n",
        "\n",
        "            # compute the loss (forward pass)\n",
        "            y_hat = model(X)\n",
        "            loss = loss_fn(y_hat, y)\n",
        "\n",
        "            # compute the gradient (backward pass)\n",
        "            loss.backward()\n",
        "\n",
        "            # Adam uses the gradient to update the parameters\n",
        "            optimizer.step()\n",
        "\n",
        "            # print statistics\n",
        "            running_loss += loss.item()\n",
        "\n",
        "            # print the epoch, number of batches processed, and running loss \n",
        "            # in regular intervals\n",
        "            if i % print_every == print_every - 1:    \n",
        "                print(f'[epoch: {epoch + 1}, batches: {i + 1:5d}], loss: {running_loss / print_every:.3f}')\n",
        "                running_loss = 0.0\n",
        "\n",
        "    print('Finished Training')\n",
        "\n",
        "train(model, k_epochs = 2)"
      ],
      "metadata": {
        "id": "Ksu8E9sdAlXM",
        "outputId": "e11922b0-c302-41b1-c112-aed35b14fe16",
        "colab": {
          "base_uri": "https://localhost:8080/"
        }
      },
      "execution_count": 64,
      "outputs": [
        {
          "output_type": "stream",
          "name": "stdout",
          "text": [
            "[1,  2000] loss: 1.040\n",
            "[1,  4000] loss: 1.066\n",
            "[1,  6000] loss: 1.098\n",
            "[1,  8000] loss: 1.114\n",
            "[1, 10000] loss: 1.109\n",
            "[1, 12000] loss: 1.100\n",
            "[2,  2000] loss: 0.993\n",
            "[2,  4000] loss: 1.021\n",
            "[2,  6000] loss: 1.029\n",
            "[2,  8000] loss: 1.016\n",
            "[2, 10000] loss: 1.029\n",
            "[2, 12000] loss: 1.052\n",
            "Finished Training\n"
          ]
        }
      ]
    },
    {
      "cell_type": "code",
      "source": [
        "def test(model):\n",
        "\n",
        "    correct = 0\n",
        "    total = 0\n",
        "    # since we're not training, we don't need to calculate the gradients for our outputs\n",
        "    with torch.no_grad():\n",
        "        for data in testloader:\n",
        "            images, labels = data\n",
        "            images = images.to(device)\n",
        "            labels = labels.to(device)\n",
        "            # calculate outputs by running images through the network\n",
        "            outputs = model(images)\n",
        "            # the class with the highest energy is what we choose as prediction\n",
        "            _, predicted = torch.max(outputs.data, 1)\n",
        "            total += labels.size(0)\n",
        "            correct += (predicted == labels).sum().item()\n",
        "\n",
        "    print(f'Accuracy of the network on the 10000 test images: {100 * correct // total} %')\n",
        "\n",
        "test(model)"
      ],
      "metadata": {
        "id": "AGTqmcVQA83Z",
        "outputId": "2dffedf2-f909-40c6-8e3f-d6cc263b1e68",
        "colab": {
          "base_uri": "https://localhost:8080/"
        }
      },
      "execution_count": 9,
      "outputs": [
        {
          "output_type": "stream",
          "name": "stdout",
          "text": [
            "Accuracy of the network on the 10000 test images: 36 %\n"
          ]
        }
      ]
    },
    {
      "cell_type": "markdown",
      "source": [
        "### Second Model: 1 Hidden Layer"
      ],
      "metadata": {
        "id": "m9cDajuFAzoa"
      }
    },
    {
      "cell_type": "code",
      "source": [
        "import torch.nn as nn\n",
        "import torch.nn.functional as F\n",
        "\n",
        "class Complete(nn.Module):\n",
        "    def __init__(self):\n",
        "        super().__init__()\n",
        "\n",
        "        self.linear1 = nn.Linear(3072, 10)\n",
        "        self.relu = nn.ReLU()\n",
        "        self.linear2 = nn.Linear(10, 10)\n",
        "\n",
        "    def forward(self, x):\n",
        "        x = torch.flatten(x, 1)\n",
        "        x = self.linear1(x)\n",
        "        x = self.relu(x)\n",
        "        x = self.linear2(x)\n",
        "        return x\n",
        "\n",
        "model = Complete().to(device)"
      ],
      "metadata": {
        "id": "q7IOYRo542AW"
      },
      "execution_count": 10,
      "outputs": []
    },
    {
      "cell_type": "code",
      "source": [
        "train(model, k_epochs=2)"
      ],
      "metadata": {
        "id": "FztI8eZ3A6L7",
        "outputId": "fa184b1a-9d5f-461c-f28c-82391b4efd78",
        "colab": {
          "base_uri": "https://localhost:8080/"
        }
      },
      "execution_count": 11,
      "outputs": [
        {
          "output_type": "stream",
          "name": "stdout",
          "text": [
            "[1,  2000] loss: 1.916\n",
            "[1,  4000] loss: 1.801\n",
            "[1,  6000] loss: 1.759\n",
            "[1,  8000] loss: 1.765\n",
            "[1, 10000] loss: 1.748\n",
            "[1, 12000] loss: 1.727\n",
            "[2,  2000] loss: 1.687\n",
            "[2,  4000] loss: 1.707\n",
            "[2,  6000] loss: 1.696\n",
            "[2,  8000] loss: 1.700\n",
            "[2, 10000] loss: 1.717\n",
            "[2, 12000] loss: 1.703\n",
            "Finished Training\n"
          ]
        }
      ]
    },
    {
      "cell_type": "code",
      "source": [
        "test(model)"
      ],
      "metadata": {
        "colab": {
          "base_uri": "https://localhost:8080/"
        },
        "id": "pChV44xw48oU",
        "outputId": "8b504e81-25f5-4f30-d8e2-d8683bd1bc5e"
      },
      "execution_count": 13,
      "outputs": [
        {
          "output_type": "stream",
          "name": "stdout",
          "text": [
            "Accuracy of the network on the 10000 test images: 37 %\n"
          ]
        }
      ]
    },
    {
      "cell_type": "markdown",
      "source": [
        "Third Model: Convolutional Neural Net"
      ],
      "metadata": {
        "id": "qRtJsU3vA_We"
      }
    },
    {
      "cell_type": "code",
      "source": [
        "import torch.nn as nn\n",
        "import torch.nn.functional as F\n",
        "\n",
        "class ConvNet(nn.Module):\n",
        "    def __init__(self):\n",
        "        super().__init__()\n",
        "        self.conv1 = nn.Conv2d(3, 6, 5)\n",
        "        self.pool = nn.MaxPool2d(2, 2)\n",
        "        self.conv2 = nn.Conv2d(6, 16, 5)\n",
        "        self.fc1 = nn.Linear(16 * 5 * 5, 120)\n",
        "        self.fc2 = nn.Linear(120, 84)\n",
        "        self.fc3 = nn.Linear(84, 10)\n",
        "\n",
        "    def forward(self, x):\n",
        "        x = self.pool(F.relu(self.conv1(x)))\n",
        "        x = self.pool(F.relu(self.conv2(x)))\n",
        "        x = torch.flatten(x, 1) # flatten all dimensions except batch\n",
        "        x = F.relu(self.fc1(x))\n",
        "        x = F.relu(self.fc2(x))\n",
        "        x = self.fc3(x)\n",
        "        return x\n",
        "\n",
        "\n",
        "model = ConvNet().to(device)"
      ],
      "metadata": {
        "id": "0avCgiHV6Im_"
      },
      "execution_count": 16,
      "outputs": []
    },
    {
      "cell_type": "code",
      "source": [
        "train(model, k_epochs=2)"
      ],
      "metadata": {
        "colab": {
          "base_uri": "https://localhost:8080/"
        },
        "id": "-o2X-O2w7qqs",
        "outputId": "9b567870-7493-4346-8c24-0d0fb0e22778"
      },
      "execution_count": 20,
      "outputs": [
        {
          "output_type": "stream",
          "name": "stdout",
          "text": [
            "[1,  2000] loss: 1.048\n",
            "[1,  4000] loss: 1.037\n",
            "[1,  6000] loss: 1.028\n",
            "[1,  8000] loss: 1.047\n",
            "[1, 10000] loss: 1.078\n",
            "[1, 12000] loss: 1.054\n",
            "[2,  2000] loss: 0.971\n",
            "[2,  4000] loss: 0.992\n",
            "[2,  6000] loss: 0.980\n",
            "[2,  8000] loss: 0.988\n",
            "[2, 10000] loss: 0.997\n",
            "[2, 12000] loss: 1.018\n",
            "Finished Training\n"
          ]
        }
      ]
    },
    {
      "cell_type": "code",
      "source": [
        "test(model)"
      ],
      "metadata": {
        "colab": {
          "base_uri": "https://localhost:8080/"
        },
        "id": "82utSqt47vYl",
        "outputId": "367748fe-071e-49a7-8a2c-742af822c2b5"
      },
      "execution_count": 21,
      "outputs": [
        {
          "output_type": "stream",
          "name": "stdout",
          "text": [
            "Accuracy of the network on the 10000 test images: 61 %\n"
          ]
        }
      ]
    },
    {
      "cell_type": "code",
      "source": [],
      "metadata": {
        "id": "EzxD4nRT8nI6"
      },
      "execution_count": null,
      "outputs": []
    }
  ]
}