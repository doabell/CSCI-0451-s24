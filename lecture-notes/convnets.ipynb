{
  "nbformat": 4,
  "nbformat_minor": 0,
  "metadata": {
    "colab": {
      "provenance": [],
      "authorship_tag": "ABX9TyNPWcs8XNFmfEBRXI5/JfsZ",
      "include_colab_link": true
    },
    "kernelspec": {
      "name": "python3",
      "display_name": "Python 3"
    },
    "language_info": {
      "name": "python"
    },
    "accelerator": "GPU",
    "gpuClass": "standard"
  },
  "cells": [
    {
      "cell_type": "markdown",
      "metadata": {
        "id": "view-in-github",
        "colab_type": "text"
      },
      "source": [
        "<a href=\"https://colab.research.google.com/github/middlebury-csci-0451/CSCI-0451/blob/main/lecture-notes/convnets.ipynb\" target=\"_parent\"><img src=\"https://colab.research.google.com/assets/colab-badge.svg\" alt=\"Open In Colab\"/></a>"
      ]
    },
    {
      "cell_type": "markdown",
      "source": [
        "## Image Classification\n",
        "\n",
        "The image classification problem is the problem of assigning a label to an image. For example, we might want to assign the label \"duck\" to pictures of ducks, the label \"frog\" to pictures of frogs, and so on.\n",
        "\n"
      ],
      "metadata": {
        "id": "I01X5mpeAMVm"
      }
    },
    {
      "cell_type": "code",
      "source": [],
      "metadata": {
        "id": "q5r9dVqeDRSQ"
      },
      "execution_count": null,
      "outputs": []
    },
    {
      "cell_type": "markdown",
      "source": [
        "### Data Access\n",
        "\n",
        "For this lecture, we'll use the popular [CIFAR10 data set](https://www.cs.toronto.edu/~kriz/cifar.html). CIFAR10 was a common benchmark for simple image recognition tasks, although it's since been superseded by larger and more complex data sets.\n",
        "\n",
        "To start, we'll load our packages, access the CIFAR10 data set, and set the device type. "
      ],
      "metadata": {
        "id": "Pim6XFK4AV1U"
      }
    },
    {
      "cell_type": "code",
      "source": [
        "# if you don't have torchviz, install it by uncommenting and running the following line\n",
        "# !pip install torchviz"
      ],
      "metadata": {
        "id": "lPSe0I2jPKDr"
      },
      "execution_count": 80,
      "outputs": []
    },
    {
      "cell_type": "code",
      "execution_count": 71,
      "metadata": {
        "id": "8KB_j71J4vUs"
      },
      "outputs": [],
      "source": [
        "import torch\n",
        "import torchvision\n",
        "import torchvision.transforms as transforms\n",
        "from torchviz import make_dot, make_dot_from_trace"
      ]
    },
    {
      "cell_type": "code",
      "source": [
        "transform = transforms.Compose(\n",
        "    [transforms.ToTensor(),\n",
        "     transforms.Normalize((0.5, 0.5, 0.5), (0.5, 0.5, 0.5))])\n",
        "\n",
        "batch_size = 4\n",
        "\n",
        "trainset = torchvision.datasets.CIFAR10(root='./data', train=True,\n",
        "                                        download=True, transform=transform)\n",
        "trainloader = torch.utils.data.DataLoader(trainset, batch_size=batch_size,\n",
        "                                          shuffle=True, num_workers=2)\n",
        "\n",
        "testset = torchvision.datasets.CIFAR10(root='./data', train=False,\n",
        "                                       download=True, transform=transform)\n",
        "testloader = torch.utils.data.DataLoader(testset, batch_size=batch_size,\n",
        "                                         shuffle=False, num_workers=2)"
      ],
      "metadata": {
        "colab": {
          "base_uri": "https://localhost:8080/"
        },
        "id": "dMMOzF3J4xDR",
        "outputId": "d0093575-9f37-495a-c80d-3f903354bc0f"
      },
      "execution_count": 3,
      "outputs": [
        {
          "output_type": "stream",
          "name": "stdout",
          "text": [
            "Downloading https://www.cs.toronto.edu/~kriz/cifar-10-python.tar.gz to ./data/cifar-10-python.tar.gz\n"
          ]
        },
        {
          "output_type": "stream",
          "name": "stderr",
          "text": [
            "100%|██████████| 170498071/170498071 [00:03<00:00, 51885463.58it/s]\n"
          ]
        },
        {
          "output_type": "stream",
          "name": "stdout",
          "text": [
            "Extracting ./data/cifar-10-python.tar.gz to ./data\n",
            "Files already downloaded and verified\n"
          ]
        }
      ]
    },
    {
      "cell_type": "markdown",
      "source": [
        "If your computer has a CUDA GPU available, or if you are working on Google Colab, then you can use a GPU (CUDA) device on which to run your computations. This *can* be very helpful, often resulting in speedups of roughly 10x or so. However, how useful this is can depend strongly on the exact model architecture. Generally speaking, larger models will see greater benefits from GPU usage. "
      ],
      "metadata": {
        "id": "vJe47CdNFQV1"
      }
    },
    {
      "cell_type": "markdown",
      "source": [
        "### Visualizing The Data\n",
        "\n",
        "The CIFAR10 training data set contains 50,000 images with 32x32 pixels and 3 color channels. Each of these images is labeled with one of 10 labels: "
      ],
      "metadata": {
        "id": "5rX-I85dAXlF"
      }
    },
    {
      "cell_type": "code",
      "source": [
        "classes = ('plane', 'car', 'bird', 'cat',\n",
        "           'deer', 'dog', 'frog', 'horse', 'ship', 'truck')"
      ],
      "metadata": {
        "id": "Qij0CjrGJiYY"
      },
      "execution_count": null,
      "outputs": []
    },
    {
      "cell_type": "markdown",
      "source": [
        "The testing data set contains 10,000 more images with the same labels. \n",
        "\n",
        "Let's begin by visualizing a few elements of the training data set: "
      ],
      "metadata": {
        "id": "8NNjNRBSJoLu"
      }
    },
    {
      "cell_type": "code",
      "source": [
        "from matplotlib import pyplot as plt\n",
        "import numpy as np\n",
        "\n",
        "n_rows = 3\n",
        "\n",
        "fig, axarr = plt.subplots(n_rows, batch_size, figsize = (10, 7))\n",
        "\n",
        "for i in range(n_rows):\n",
        "\n",
        "    # returns batch_size images with their labels\n",
        "    imgs, labels = next(iter(trainloader)) \n",
        "\n",
        "    # populate a row with the images in the batch\n",
        "    for j in range(batch_size):\n",
        "        img = np.moveaxis(imgs[j].numpy(), 0, 2) \n",
        "        axarr[i, j].imshow((img + 1)/2)\n",
        "        axarr[i, j].axis(\"off\")\n",
        "        axarr[i, j].set(title = classes[int(labels[j])])"
      ],
      "metadata": {
        "colab": {
          "base_uri": "https://localhost:8080/",
          "height": 598
        },
        "id": "FyPkaoM3GK-N",
        "outputId": "c12adb24-5af1-4f08-ba09-65d5dde58a37"
      },
      "execution_count": 63,
      "outputs": [
        {
          "output_type": "display_data",
          "data": {
            "text/plain": [
              "<Figure size 1000x700 with 12 Axes>"
            ],
            "image/png": "[encoded data removed]"
          },
          "metadata": {}
        }
      ]
    },
    {
      "cell_type": "markdown",
      "source": [
        "Each of the 10 classes of data are evenly represented in the training and test data sets. So, the base rate for this problem (corresponding to random guessing) is 1/10 = 10%. "
      ],
      "metadata": {
        "id": "K-ISb4MkKawa"
      }
    },
    {
      "cell_type": "markdown",
      "source": [
        "## First Model: Logistic Regression\n",
        "\n",
        "We're now ready to write some models to attempt do better than the base rate. Before we construct any models, we'll set our `device` to be equal to the GPU if we have one available (e.g. if your computer has one or if you are working on Google Colab. "
      ],
      "metadata": {
        "id": "atQixCJwAcZ6"
      }
    },
    {
      "cell_type": "code",
      "source": [
        "device = torch.device('cuda:0' if torch.cuda.is_available() else 'cpu')"
      ],
      "metadata": {
        "id": "76_4ZvpjDTWa"
      },
      "execution_count": 22,
      "outputs": []
    },
    {
      "cell_type": "markdown",
      "source": [
        "Now let's construct a logistic regression model. All we need for this model is a `Linear` layer that accepts the number of floating point numbers used to store a single image and returns 10 numbers. A single image is a tensor of size $3\\times32\\times 32$, which means that it has 3072 total numbers stored. "
      ],
      "metadata": {
        "id": "OPE4YodMKt7L"
      }
    },
    {
      "cell_type": "code",
      "source": [
        "import torch.nn as nn\n",
        "import torch.nn.functional as F\n",
        "\n",
        "class Logistic(nn.Module):\n",
        "    def __init__(self):\n",
        "        super().__init__()\n",
        "\n",
        "        # matrix multiplication\n",
        "        # 3072 is the flattened size of the image\n",
        "        self.linear1 = nn.Linear(3072, 10)\n",
        "\n",
        "    def forward(self, x):\n",
        "\n",
        "        # flatten the image, converting it from 3x32x32 to 3072\n",
        "        # the last dimension says \"don't flatten across batches\"\n",
        "        # so each image stays distinct\n",
        "        x = torch.flatten(x, 1)\n",
        "\n",
        "        # do the matrix multiplication\n",
        "        x = self.linear1(x)\n",
        "        return x\n",
        "\n",
        "# instantiate the model and move it to the device\n",
        "model = Logistic().to(device)"
      ],
      "metadata": {
        "id": "AhznNT6FAgJy"
      },
      "execution_count": 77,
      "outputs": []
    },
    {
      "cell_type": "markdown",
      "source": [
        "As a side note, after computing the loss on a bit of data, it's possible to actually visualize the computational graph. Fun! "
      ],
      "metadata": {
        "id": "7bUzaWoRQTlF"
      }
    },
    {
      "cell_type": "code",
      "source": [
        "loss_fn = nn.CrossEntropyLoss() \n",
        "\n",
        "X, y = next(iter(trainloader))\n",
        "X, y = X.to(device), y.to(device)\n",
        "\n",
        "y_hat = model(X)\n",
        "loss = loss_fn(y_hat, y)\n",
        "\n",
        "make_dot(loss, params=dict(model.named_parameters()))\n"
      ],
      "metadata": {
        "colab": {
          "base_uri": "https://localhost:8080/",
          "height": 543
        },
        "id": "uks0XIFOPi9o",
        "outputId": "e9b09a80-9e68-4818-aa3d-bff52ea7b6fc"
      },
      "execution_count": 78,
      "outputs": [
        {
          "output_type": "execute_result",
          "data": {
            "image/svg+xml": "<?xml version=\"1.0\" encoding=\"UTF-8\" standalone=\"no\"?>\n<!DOCTYPE svg PUBLIC \"-//W3C//DTD SVG 1.1//EN\"\n \"http://www.w3.org/Graphics/SVG/1.1/DTD/svg11.dtd\">\n<!-- Generated by graphviz version 2.43.0 (0)\n -->\n<!-- Title: %3 Pages: 1 -->\n<svg width=\"221pt\" height=\"391pt\"\n viewBox=\"0.00 0.00 221.00 391.00\" xmlns=\"http://www.w3.org/2000/svg\" xmlns:xlink=\"http://www.w3.org/1999/xlink\">\n<g id=\"graph0\" class=\"graph\" transform=\"scale(1 1) rotate(0) translate(4 387)\">\n<title>%3</title>\n<polygon fill=\"white\" stroke=\"transparent\" points=\"-4,4 -4,-387 217,-387 217,4 -4,4\"/>\n<!-- 140591176494512 -->\n<g id=\"node1\" class=\"node\">\n<title>140591176494512</title>\n<polygon fill=\"#caff70\" stroke=\"black\" points=\"132.5,-31 78.5,-31 78.5,0 132.5,0 132.5,-31\"/>\n<text text-anchor=\"middle\" x=\"105.5\" y=\"-7\" font-family=\"monospace\" font-size=\"10.00\"> ()</text>\n</g>\n<!-- 140592806958848 -->\n<g id=\"node2\" class=\"node\">\n<title>140592806958848</title>\n<polygon fill=\"lightgrey\" stroke=\"black\" points=\"162,-86 49,-86 49,-67 162,-67 162,-86\"/>\n<text text-anchor=\"middle\" x=\"105.5\" y=\"-74\" font-family=\"monospace\" font-size=\"10.00\">NllLossBackward0</text>\n</g>\n<!-- 140592806958848&#45;&gt;140591176494512 -->\n<g id=\"edge8\" class=\"edge\">\n<title>140592806958848&#45;&gt;140591176494512</title>\n<path fill=\"none\" stroke=\"black\" d=\"M105.5,-66.79C105.5,-60.07 105.5,-50.4 105.5,-41.34\"/>\n<polygon fill=\"black\" stroke=\"black\" points=\"109,-41.19 105.5,-31.19 102,-41.19 109,-41.19\"/>\n</g>\n<!-- 140592806960912 -->\n<g id=\"node3\" class=\"node\">\n<title>140592806960912</title>\n<polygon fill=\"lightgrey\" stroke=\"black\" points=\"171,-141 40,-141 40,-122 171,-122 171,-141\"/>\n<text text-anchor=\"middle\" x=\"105.5\" y=\"-129\" font-family=\"monospace\" font-size=\"10.00\">LogSoftmaxBackward0</text>\n</g>\n<!-- 140592806960912&#45;&gt;140592806958848 -->\n<g id=\"edge1\" class=\"edge\">\n<title>140592806960912&#45;&gt;140592806958848</title>\n<path fill=\"none\" stroke=\"black\" d=\"M105.5,-121.75C105.5,-114.8 105.5,-104.85 105.5,-96.13\"/>\n<polygon fill=\"black\" stroke=\"black\" points=\"109,-96.09 105.5,-86.09 102,-96.09 109,-96.09\"/>\n</g>\n<!-- 140592806957984 -->\n<g id=\"node4\" class=\"node\">\n<title>140592806957984</title>\n<polygon fill=\"lightgrey\" stroke=\"black\" points=\"156,-196 55,-196 55,-177 156,-177 156,-196\"/>\n<text text-anchor=\"middle\" x=\"105.5\" y=\"-184\" font-family=\"monospace\" font-size=\"10.00\">AddmmBackward0</text>\n</g>\n<!-- 140592806957984&#45;&gt;140592806960912 -->\n<g id=\"edge2\" class=\"edge\">\n<title>140592806957984&#45;&gt;140592806960912</title>\n<path fill=\"none\" stroke=\"black\" d=\"M105.5,-176.75C105.5,-169.8 105.5,-159.85 105.5,-151.13\"/>\n<polygon fill=\"black\" stroke=\"black\" points=\"109,-151.09 105.5,-141.09 102,-151.09 109,-151.09\"/>\n</g>\n<!-- 140592806958320 -->\n<g id=\"node5\" class=\"node\">\n<title>140592806958320</title>\n<polygon fill=\"lightgrey\" stroke=\"black\" points=\"101,-251 0,-251 0,-232 101,-232 101,-251\"/>\n<text text-anchor=\"middle\" x=\"50.5\" y=\"-239\" font-family=\"monospace\" font-size=\"10.00\">AccumulateGrad</text>\n</g>\n<!-- 140592806958320&#45;&gt;140592806957984 -->\n<g id=\"edge3\" class=\"edge\">\n<title>140592806958320&#45;&gt;140592806957984</title>\n<path fill=\"none\" stroke=\"black\" d=\"M59.58,-231.75C67.59,-224.03 79.46,-212.6 89.12,-203.28\"/>\n<polygon fill=\"black\" stroke=\"black\" points=\"91.81,-205.55 96.59,-196.09 86.96,-200.51 91.81,-205.55\"/>\n</g>\n<!-- 140591176476608 -->\n<g id=\"node6\" class=\"node\">\n<title>140591176476608</title>\n<polygon fill=\"lightblue\" stroke=\"black\" points=\"94,-317 5,-317 5,-287 94,-287 94,-317\"/>\n<text text-anchor=\"middle\" x=\"49.5\" y=\"-305\" font-family=\"monospace\" font-size=\"10.00\">linear1.bias</text>\n<text text-anchor=\"middle\" x=\"49.5\" y=\"-294\" font-family=\"monospace\" font-size=\"10.00\"> (10)</text>\n</g>\n<!-- 140591176476608&#45;&gt;140592806958320 -->\n<g id=\"edge4\" class=\"edge\">\n<title>140591176476608&#45;&gt;140592806958320</title>\n<path fill=\"none\" stroke=\"black\" d=\"M49.74,-286.84C49.87,-279.21 50.03,-269.7 50.18,-261.45\"/>\n<polygon fill=\"black\" stroke=\"black\" points=\"53.68,-261.32 50.35,-251.27 46.68,-261.2 53.68,-261.32\"/>\n</g>\n<!-- 140592806960864 -->\n<g id=\"node7\" class=\"node\">\n<title>140592806960864</title>\n<polygon fill=\"lightgrey\" stroke=\"black\" points=\"199,-251 122,-251 122,-232 199,-232 199,-251\"/>\n<text text-anchor=\"middle\" x=\"160.5\" y=\"-239\" font-family=\"monospace\" font-size=\"10.00\">TBackward0</text>\n</g>\n<!-- 140592806960864&#45;&gt;140592806957984 -->\n<g id=\"edge5\" class=\"edge\">\n<title>140592806960864&#45;&gt;140592806957984</title>\n<path fill=\"none\" stroke=\"black\" d=\"M151.42,-231.75C143.41,-224.03 131.54,-212.6 121.88,-203.28\"/>\n<polygon fill=\"black\" stroke=\"black\" points=\"124.04,-200.51 114.41,-196.09 119.19,-205.55 124.04,-200.51\"/>\n</g>\n<!-- 140592806957312 -->\n<g id=\"node8\" class=\"node\">\n<title>140592806957312</title>\n<polygon fill=\"lightgrey\" stroke=\"black\" points=\"213,-311.5 112,-311.5 112,-292.5 213,-292.5 213,-311.5\"/>\n<text text-anchor=\"middle\" x=\"162.5\" y=\"-299.5\" font-family=\"monospace\" font-size=\"10.00\">AccumulateGrad</text>\n</g>\n<!-- 140592806957312&#45;&gt;140592806960864 -->\n<g id=\"edge6\" class=\"edge\">\n<title>140592806957312&#45;&gt;140592806960864</title>\n<path fill=\"none\" stroke=\"black\" d=\"M162.2,-292.37C161.93,-284.25 161.5,-271.81 161.15,-261.39\"/>\n<polygon fill=\"black\" stroke=\"black\" points=\"164.64,-261.04 160.8,-251.17 157.64,-261.28 164.64,-261.04\"/>\n</g>\n<!-- 140591176476368 -->\n<g id=\"node9\" class=\"node\">\n<title>140591176476368</title>\n<polygon fill=\"lightblue\" stroke=\"black\" points=\"213,-383 112,-383 112,-353 213,-353 213,-383\"/>\n<text text-anchor=\"middle\" x=\"162.5\" y=\"-371\" font-family=\"monospace\" font-size=\"10.00\">linear1.weight</text>\n<text text-anchor=\"middle\" x=\"162.5\" y=\"-360\" font-family=\"monospace\" font-size=\"10.00\"> (10, 3072)</text>\n</g>\n<!-- 140591176476368&#45;&gt;140592806957312 -->\n<g id=\"edge7\" class=\"edge\">\n<title>140591176476368&#45;&gt;140592806957312</title>\n<path fill=\"none\" stroke=\"black\" d=\"M162.5,-352.8C162.5,-343.7 162.5,-331.79 162.5,-321.9\"/>\n<polygon fill=\"black\" stroke=\"black\" points=\"166,-321.84 162.5,-311.84 159,-321.84 166,-321.84\"/>\n</g>\n</g>\n</svg>\n",
            "text/plain": [
              "<graphviz.graphs.Digraph at 0x7fde50511940>"
            ]
          },
          "metadata": {},
          "execution_count": 78
        }
      ]
    },
    {
      "cell_type": "markdown",
      "source": [
        "The total number of trainable parameters in this model is "
      ],
      "metadata": {
        "id": "2fw5T5F8R50d"
      }
    },
    {
      "cell_type": "code",
      "source": [
        "def count_parameters(model):\n",
        "    \"\"\"\n",
        "    count the trainable parameters in a PyTorch model\n",
        "    from https://discuss.pytorch.org/t/how-do-i-check-the-number-of-parameters-of-a-model/4325/9\n",
        "    \"\"\"\n",
        "    return sum(p.numel() for p in model.parameters() if p.requires_grad)\n",
        "\n",
        "count_parameters(model)"
      ],
      "metadata": {
        "colab": {
          "base_uri": "https://localhost:8080/"
        },
        "id": "lLkXiebiR8H2",
        "outputId": "e0ea6ebe-5fef-45e1-c192-756eb3c8d0f1"
      },
      "execution_count": 79,
      "outputs": [
        {
          "output_type": "execute_result",
          "data": {
            "text/plain": [
              "30730"
            ]
          },
          "metadata": {},
          "execution_count": 79
        }
      ]
    },
    {
      "cell_type": "markdown",
      "source": [
        "Let's go ahead and implement a training loop: "
      ],
      "metadata": {
        "id": "SK7bxENrLUaY"
      }
    },
    {
      "cell_type": "code",
      "source": [
        "import torch.optim as optim\n",
        "\n",
        "def train(model, k_epochs = 1, print_every = 2000):\n",
        "\n",
        "    # loss function is cross-entropy (multiclass logistic)\n",
        "    loss_fn = nn.CrossEntropyLoss() \n",
        "\n",
        "    # optimizer is Adam, which does fancier stuff with the gradients\n",
        "    optimizer = optim.Adam(model.parameters(), lr=0.001)\n",
        "\n",
        "    for epoch in range(k_epochs): \n",
        "\n",
        "        running_loss = 0.0\n",
        "        for i, data in enumerate(trainloader, 0):\n",
        "\n",
        "            # extract a batch of training data from the data loader\n",
        "            X, y = data\n",
        "            X = X.to(device)\n",
        "            y = y.to(device)\n",
        "\n",
        "            # zero out gradients: we're going to recompute them in a moment\n",
        "            optimizer.zero_grad()\n",
        "\n",
        "            # compute the loss (forward pass)\n",
        "            y_hat = model(X)\n",
        "            loss = loss_fn(y_hat, y)\n",
        "\n",
        "            # compute the gradient (backward pass)\n",
        "            loss.backward()\n",
        "\n",
        "            # Adam uses the gradient to update the parameters\n",
        "            optimizer.step()\n",
        "\n",
        "            # print statistics\n",
        "            running_loss += loss.item()\n",
        "\n",
        "            # print the epoch, number of batches processed, and running loss \n",
        "            # in regular intervals\n",
        "            if i % print_every == print_every - 1:    \n",
        "                print(f'[epoch: {epoch + 1}, batches: {i + 1:5d}], loss: {running_loss / print_every:.3f}')\n",
        "                running_loss = 0.0\n",
        "\n",
        "    print('Finished Training')\n",
        "\n",
        "train(model, k_epochs = 2)"
      ],
      "metadata": {
        "id": "Ksu8E9sdAlXM",
        "outputId": "e11922b0-c302-41b1-c112-aed35b14fe16",
        "colab": {
          "base_uri": "https://localhost:8080/"
        }
      },
      "execution_count": 64,
      "outputs": [
        {
          "output_type": "stream",
          "name": "stdout",
          "text": [
            "[1,  2000] loss: 1.040\n",
            "[1,  4000] loss: 1.066\n",
            "[1,  6000] loss: 1.098\n",
            "[1,  8000] loss: 1.114\n",
            "[1, 10000] loss: 1.109\n",
            "[1, 12000] loss: 1.100\n",
            "[2,  2000] loss: 0.993\n",
            "[2,  4000] loss: 1.021\n",
            "[2,  6000] loss: 1.029\n",
            "[2,  8000] loss: 1.016\n",
            "[2, 10000] loss: 1.029\n",
            "[2, 12000] loss: 1.052\n",
            "Finished Training\n"
          ]
        }
      ]
    },
    {
      "cell_type": "markdown",
      "source": [
        "Let's also define a testing function that will evaluate the accuracy of our model against the test set. "
      ],
      "metadata": {
        "id": "PLCYCXI0M3rb"
      }
    },
    {
      "cell_type": "code",
      "source": [
        "def test(model):\n",
        "    correct = 0\n",
        "    total = 0\n",
        "    # torch.no_grad creates an environment in which we do NOT store the \n",
        "    # computational graph. We don't need to do this because we don't care about \n",
        "    # gradients unless we're training\n",
        "    with torch.no_grad():\n",
        "        for data in testloader:\n",
        "            X, y = data\n",
        "            X = X.to(device)\n",
        "            y = y.to(device)\n",
        "            \n",
        "            # run all the images through the model\n",
        "            y_hat = model(X)\n",
        "\n",
        "            # the class with the largest model output is the prediction\n",
        "            _, predicted = torch.max(y_hat.data, 1)\n",
        "\n",
        "            # compute the accuracy\n",
        "            total += y.size(0)\n",
        "            correct += (predicted == y).sum().item()\n",
        "\n",
        "    print(f'Test accuracy: {100 * correct // total} %')\n",
        "\n",
        "test(model)"
      ],
      "metadata": {
        "id": "AGTqmcVQA83Z",
        "outputId": "94a66fa6-d844-4338-c8e4-1d1f8f205e74",
        "colab": {
          "base_uri": "https://localhost:8080/"
        }
      },
      "execution_count": 65,
      "outputs": [
        {
          "output_type": "stream",
          "name": "stdout",
          "text": [
            "Test accuracy: 61 %\n"
          ]
        }
      ]
    },
    {
      "cell_type": "markdown",
      "source": [
        "### Second Model: 1 Hidden Layer\n",
        "\n",
        "Nothing at all wrong with this, but it's not very Deep. If all we wanted to do was logistic regression, we could have stuck with `scikit-learn` or even our own implementations. Here's an implementation of a linear-ReLU stack. This model has \"complete\" or \"full\" linkage because every unit in one layer is an input to every unit in the next layer. \n",
        "\n",
        "![](https://upload.wikimedia.org/wikipedia/commons/thumb/4/46/Colored_neural_network.svg/500px-Colored_neural_network.svg.png)\n",
        "\n",
        "*Example of a a fully-connected neural network: every unit in every layer is an input into the next layer.*"
      ],
      "metadata": {
        "id": "m9cDajuFAzoa"
      }
    },
    {
      "cell_type": "code",
      "source": [
        "import torch.nn as nn\n",
        "import torch.nn.functional as F\n",
        "\n",
        "class Complete(nn.Module):\n",
        "    def __init__(self):\n",
        "        super().__init__()\n",
        "\n",
        "        # the \"hidden\" layer: first dimension needs to have same size as \n",
        "        # data input\n",
        "        # the number of \"hidden units\" is arbitrary but can affect model \n",
        "        # performance\n",
        "        self.linear1 = nn.Linear(3072, 100)\n",
        "        self.relu = nn.ReLU()\n",
        "\n",
        "        # the output layer\n",
        "        # first dimension needs to agree with final dimension from previous \n",
        "        # layer\n",
        "        self.linear2 = nn.Linear(100, 10)\n",
        "\n",
        "    # pass data through the layers in sequence\n",
        "    def forward(self, x):\n",
        "        x = torch.flatten(x, 1)\n",
        "        x = self.linear1(x)\n",
        "        x = self.relu(x)\n",
        "        x = self.linear2(x)\n",
        "        return x\n",
        "\n",
        "model = Complete().to(device)"
      ],
      "metadata": {
        "id": "q7IOYRo542AW"
      },
      "execution_count": 75,
      "outputs": []
    },
    {
      "cell_type": "markdown",
      "source": [
        "This time the number of model parameters is "
      ],
      "metadata": {
        "id": "fWO1HlNISNPl"
      }
    },
    {
      "cell_type": "code",
      "source": [
        "count_parameters(model)"
      ],
      "metadata": {
        "colab": {
          "base_uri": "https://localhost:8080/"
        },
        "id": "jjxvA__ASQa_",
        "outputId": "68ca127a-4268-4f9f-d1b6-ad83be486974"
      },
      "execution_count": 76,
      "outputs": [
        {
          "output_type": "execute_result",
          "data": {
            "text/plain": [
              "308310"
            ]
          },
          "metadata": {},
          "execution_count": 76
        }
      ]
    },
    {
      "cell_type": "markdown",
      "source": [
        "Let's go ahead and train..."
      ],
      "metadata": {
        "id": "NHbAqrOYSXiO"
      }
    },
    {
      "cell_type": "code",
      "source": [
        "train(model, k_epochs=2)"
      ],
      "metadata": {
        "id": "FztI8eZ3A6L7",
        "colab": {
          "base_uri": "https://localhost:8080/"
        },
        "outputId": "aad29607-4ba0-4f19-c79a-c978b3ae184e"
      },
      "execution_count": 67,
      "outputs": [
        {
          "output_type": "stream",
          "name": "stdout",
          "text": [
            "[1,  2000] loss: 1.965\n",
            "[1,  4000] loss: 1.802\n",
            "[1,  6000] loss: 1.751\n",
            "[1,  8000] loss: 1.743\n",
            "[1, 10000] loss: 1.736\n",
            "[1, 12000] loss: 1.712\n",
            "[2,  2000] loss: 1.642\n",
            "[2,  4000] loss: 1.664\n",
            "[2,  6000] loss: 1.637\n",
            "[2,  8000] loss: 1.647\n",
            "[2, 10000] loss: 1.647\n",
            "[2, 12000] loss: 1.645\n",
            "Finished Training\n"
          ]
        }
      ]
    },
    {
      "cell_type": "markdown",
      "source": [
        "...and test! "
      ],
      "metadata": {
        "id": "_l87V8oGSZh7"
      }
    },
    {
      "cell_type": "code",
      "source": [
        "test(model)"
      ],
      "metadata": {
        "colab": {
          "base_uri": "https://localhost:8080/"
        },
        "id": "pChV44xw48oU",
        "outputId": "4adbfee7-868a-409f-e6a0-724455ae175a"
      },
      "execution_count": 68,
      "outputs": [
        {
          "output_type": "stream",
          "name": "stdout",
          "text": [
            "Test accuracy: 44 %\n"
          ]
        }
      ]
    },
    {
      "cell_type": "markdown",
      "source": [
        "## Third Model: Convolutional Neural Net\n",
        "\n",
        "Fully connected networks with hidden layers are *generalists*: they do their best to fit to the data using minimal assumptions about how the data is structured. For this reason, they are often decent at many tasks, but are often outperformed by networks with more specialized layeres that are adapted to the specifics of the task at hand. Image data, for example, is *spatial*. In order to address the spatial nature of images, it is useful to incorporate layers that explicitly account for spatial structure. \n",
        "\n",
        "One of the most common types of layers is a *convolutional* layer. The idea of an image convolution is pretty simple. We define a square *kernel matrix* containing some numbers, and we \"slide it over\" the input data. At each location, we multiply the data values by the kernel matrix values, and add them together. Here's an illustrative diagram:\n",
        "\n",
        "![](https://d2l.ai/_images/correlation.svg)\n",
        "\n",
        "*Image from [Dive Into Deep Learning](https://d2l.ai/chapter_convolutional-neural-networks/conv-layer.html)*\n",
        "\n",
        "In this example, the value of 19 is computed as $0\\times 0 + 1\\times 1 + 3\\times 2 + 4\\times 3 = 19$. \n",
        "\n",
        "Historically, kernel matrices were designed by hand for specific purposes and applied to images. For example, here's a greyscale image alongside the result of convolving it with an *edge-detection kernel*. You can see that the resulting convolved image is darker (larger values in each pixel) in the places where different patches of color meet. \n"
      ],
      "metadata": {
        "id": "qRtJsU3vA_We"
      }
    },
    {
      "cell_type": "code",
      "source": [
        "from PIL import Image\n",
        "import urllib\n",
        "from scipy.signal import convolve2d\n",
        "\n",
        "# get the image\n",
        "def read_image(url):\n",
        "    return np.array(Image.open(urllib.request.urlopen(url)))\n",
        "\n",
        "url = \"https://i.pinimg.com/originals/0e/d0/23/0ed023847cad0d652d6371c3e53d1482.png\"\n",
        "\n",
        "img = read_image(url)\n",
        "\n",
        "# convert it to greyscale\n",
        "def to_greyscale(im):\n",
        "    return 1 - np.dot(im[...,:3], [0.2989, 0.5870, 0.1140])\n",
        "\n",
        "img = to_greyscale(img)\n",
        "\n",
        "# perform kernel convolution\n",
        "kernel = np.array([[-1, -1, -1], \n",
        "                   [-1,  8, -1], \n",
        "                   [-1, -1, -1]])\n",
        "\n",
        "convd = convolve2d(img, kernel)\n",
        "\n",
        "# visualize\n",
        "fig, axarr = plt.subplots(1, 2, figsize = (5, 10))\n",
        "\n",
        "axarr[0].imshow(img, cmap = \"Greys\")\n",
        "axarr[0].axis(\"off\")\n",
        "\n",
        "axarr[1].imshow(convd, cmap = \"Greys\", vmin = 0, vmax = 8)\n",
        "viz = axarr[1].axis(\"off\")"
      ],
      "metadata": {
        "id": "CSrOcODGUKIk",
        "outputId": "172247c7-7d62-43e3-d7f4-e708a0e8ef10",
        "colab": {
          "base_uri": "https://localhost:8080/",
          "height": 150
        }
      },
      "execution_count": 95,
      "outputs": [
        {
          "output_type": "display_data",
          "data": {
            "text/plain": [
              "<Figure size 500x1000 with 2 Axes>"
            ],
            "image/png": "[encoded data removed]"
          },
          "metadata": {}
        }
      ]
    },
    {
      "cell_type": "markdown",
      "source": [
        "However, in the modern approach to learning from images, we don't both designing our own kernels. Instead, we *learn them* from the data! The reason this is possible is that the kernel convolution operation still corresponds to \n",
        "\n",
        "1. Multiplying some pairs of numbers together and\n",
        "2. Adding up the products. \n",
        "\n",
        "Although the notation gets a little complicated, this is still just matrix multiplication!! So, we can represent convolutional layers within our framework just by carefully engineering these matrices. We won't worry about the details here, but instead will go straight into using convolutional layers in a model: "
      ],
      "metadata": {
        "id": "GGRmh_V6VI73"
      }
    },
    {
      "cell_type": "code",
      "source": [
        "import torch.nn as nn\n",
        "import torch.nn.functional as F\n",
        "\n",
        "class ConvNet(nn.Module):\n",
        "    def __init__(self):\n",
        "        super().__init__()\n",
        "\n",
        "        # first convolutional layer\n",
        "        self.conv1 = nn.Conv2d(3, 6, 5)\n",
        "\n",
        "        # shrinks the image by taking the largest pixel in each 2x2 square\n",
        "        self.pool = nn.MaxPool2d(2, 2)\n",
        "\n",
        "        # MOAR CONVOLUTION\n",
        "        self.conv2 = nn.Conv2d(6, 16, 5)\n",
        "\n",
        "        # a few complete lears for good measure\n",
        "        self.fc1 = nn.Linear(16 * 5 * 5, 120)\n",
        "        self.fc2 = nn.Linear(120, 84)\n",
        "        self.fc3 = nn.Linear(84, 10)\n",
        "\n",
        "    def forward(self, x):\n",
        "\n",
        "        # these two layers use the spatial structure of the image\n",
        "        # so we don't flatten yet\n",
        "        x = self.pool(F.relu(self.conv1(x)))\n",
        "        x = self.pool(F.relu(self.conv2(x)))\n",
        "\n",
        "        # now we're ready to flatten all dimensions except batch\n",
        "        x = torch.flatten(x, 1) \n",
        "\n",
        "        # pass results through fully connected linear layers\n",
        "        x = F.relu(self.fc1(x))\n",
        "        x = F.relu(self.fc2(x))\n",
        "        x = self.fc3(x)\n",
        "        return x\n",
        "\n",
        "model = ConvNet().to(device)"
      ],
      "metadata": {
        "id": "0avCgiHV6Im_"
      },
      "execution_count": 96,
      "outputs": []
    },
    {
      "cell_type": "markdown",
      "source": [
        "What does max pooling do? you can think of it as a kind of \"summarization\" step in which we intentionally make the current output somewhat \"blockier.\" Technically, it involves sliding a window over the current batch of data and picking only the largest element within that window. Here's an example of how this looks:\n",
        "\n",
        "![](https://computersciencewiki.org/images/8/8a/MaxpoolSample2.png)\n",
        "\n",
        "*Image credit: Computer Science Wiki*\n",
        "\n"
      ],
      "metadata": {
        "id": "vvVtduXMXRs4"
      }
    },
    {
      "cell_type": "markdown",
      "source": [
        "Although convolutional neural networks seem more complicated, one of their key points is using a small set of kernels in each layer actually reduces the number of parameters when compared to a fully connected model. For example, our model here has more layers, but has almost 10x fewer parameters than our previous model with a single hidden layer: "
      ],
      "metadata": {
        "id": "h22KEnWWWCQu"
      }
    },
    {
      "cell_type": "code",
      "source": [
        "count_parameters(model)"
      ],
      "metadata": {
        "id": "SWU277oiS9Hw",
        "outputId": "ee45d609-4ae3-4653-9381-69fb494756c0",
        "colab": {
          "base_uri": "https://localhost:8080/"
        }
      },
      "execution_count": 81,
      "outputs": [
        {
          "output_type": "execute_result",
          "data": {
            "text/plain": [
              "30730"
            ]
          },
          "metadata": {},
          "execution_count": 81
        }
      ]
    },
    {
      "cell_type": "markdown",
      "source": [
        "Furthermore, this model can obtain substantially better performance, because the parameters that it does have are designed for the spatial nature of the image classification task: "
      ],
      "metadata": {
        "id": "Nc5slcCrXEOW"
      }
    },
    {
      "cell_type": "code",
      "source": [
        "train(model, k_epochs=2)"
      ],
      "metadata": {
        "colab": {
          "base_uri": "https://localhost:8080/"
        },
        "id": "-o2X-O2w7qqs",
        "outputId": "c87c3d8f-2971-49a5-d795-99aaf399a158"
      },
      "execution_count": null,
      "outputs": [
        {
          "output_type": "stream",
          "name": "stdout",
          "text": [
            "[1,  2000] loss: 1.899\n",
            "[1,  4000] loss: 1.620\n",
            "[1,  6000] loss: 1.527\n",
            "[1,  8000] loss: 1.457\n",
            "[1, 10000] loss: 1.435\n",
            "[1, 12000] loss: 1.397\n",
            "[2,  2000] loss: 1.295\n"
          ]
        }
      ]
    },
    {
      "cell_type": "code",
      "source": [
        "test(model)"
      ],
      "metadata": {
        "colab": {
          "base_uri": "https://localhost:8080/"
        },
        "id": "82utSqt47vYl",
        "outputId": "367748fe-071e-49a7-8a2c-742af822c2b5"
      },
      "execution_count": 21,
      "outputs": [
        {
          "output_type": "stream",
          "name": "stdout",
          "text": [
            "Accuracy of the network on the 10000 test images: 61 %\n"
          ]
        }
      ]
    },
    {
      "cell_type": "code",
      "source": [],
      "metadata": {
        "id": "EzxD4nRT8nI6"
      },
      "execution_count": null,
      "outputs": []
    }
  ]
}