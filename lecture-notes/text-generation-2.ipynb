{
 "cells": [
  {
   "cell_type": "raw",
   "metadata": {},
   "source": [
    "---\n",
    "title: |\n",
    "  Text Generation\n",
    "author: Phil Chodrow\n",
    "bibliography: ../refs.bib\n",
    "format: \n",
    "  html: \n",
    "    code-fold: false\n",
    "    cache: true\n",
    "    callout-appearance: minimal\n",
    "    cap-location: margin\n",
    "---"
   ]
  },
  {
   "cell_type": "code",
   "execution_count": 1,
   "metadata": {},
   "outputs": [],
   "source": [
    "import pandas as pd\n",
    "import torch\n",
    "import numpy as np\n",
    "from torchsummary import summary\n",
    "\n",
    "# for embedding visualization later\n",
    "import plotly.express as px \n",
    "import plotly.io as pio\n",
    "\n",
    "# for VSCode plotly rendering\n",
    "# pio.renderers.default = \"plotly_mimetype+notebook_connected\"\n",
    "pio.renderers.default = \"plotly_mimetype+notebook\"\n",
    "\n",
    "pio.templates.default = \"plotly_white\"\n",
    "\n",
    "from sklearn.model_selection import train_test_split\n",
    "\n",
    "import spacy\n",
    "\n",
    "device = torch.device(\"cuda\" if torch.cuda.is_available() else \"cpu\")"
   ]
  },
  {
   "cell_type": "code",
   "execution_count": 2,
   "metadata": {},
   "outputs": [],
   "source": [
    "## miscellaneous data cleaning\n",
    "\n",
    "start_episode = 20 # Start in Season 2, Season 1 is not very good\n",
    "num_episodes = 50  # only pick this many episodes to train on\n",
    "\n",
    "url = \"https://github.com/PhilChodrow/PIC16B/blob/master/datasets/star_trek_scripts.json?raw=true\"\n",
    "star_trek_scripts = pd.read_json(url)\n",
    "\n",
    "cleaned = star_trek_scripts[\"DS9\"].str.replace(\"\\n\\n\\n\\n\\n\\nThe Deep Space Nine Transcripts -\", \"\")\n",
    "cleaned = cleaned.str.split(\"\\n\\n\\n\\n\\n\\n\\n\").str.get(-2)\n",
    "text = \"\\n\\n\".join(cleaned[start_episode:(start_episode + num_episodes)])\n",
    "for char in ['\\xa0', 'à', 'é', \"}\", \"{\"]:\n",
    "    text = text.replace(char, \"\")"
   ]
  },
  {
   "cell_type": "code",
   "execution_count": 6,
   "metadata": {},
   "outputs": [
    {
     "data": {
      "text/plain": [
       "1570823"
      ]
     },
     "execution_count": 6,
     "metadata": {},
     "output_type": "execute_result"
    }
   ],
   "source": [
    "WINDOW = 10 # predict next word from 10 previous words\n",
    "\n",
    "predictors = []\n",
    "targets    = []\n",
    "\n",
    "for i in range(len(text) - WINDOW - 1):\n",
    "    predictors.append(list(text[i:i+WINDOW]))\n",
    "    # predictors.append(\" \".join(word_seq[i:(i+WINDOW)]))\n",
    "    targets.append(text[i+WINDOW])\n",
    "len(predictors)\n",
    "# i = 0\n",
    "# len(tokenizer(predictors[0])), targets[i]\n"
   ]
  },
  {
   "cell_type": "code",
   "execution_count": 9,
   "metadata": {},
   "outputs": [
    {
     "data": {
      "text/plain": [
       "['e', ' ', 'o', 'n', ' ', 'D', 'e', 'e', 'p', ' ']"
      ]
     },
     "execution_count": 9,
     "metadata": {},
     "output_type": "execute_result"
    }
   ],
   "source": [
    "predictors[0:10]\n",
    "targets[0:10]"
   ]
  },
  {
   "cell_type": "code",
   "execution_count": 10,
   "metadata": {},
   "outputs": [],
   "source": [
    "from torch.utils.data import Dataset, DataLoader\n",
    "\n",
    "class TextDataSet(Dataset):\n",
    "    def __init__(self, predictors, targets):\n",
    "        self.predictors = predictors\n",
    "        self.targets = targets\n",
    "    \n",
    "    def __getitem__(self, index):\n",
    "        return self.predictors[index], self.targets[index]\n",
    "\n",
    "    def __len__(self):\n",
    "        return len(self.targets)\n",
    "\n",
    "data = TextDataSet(predictors, targets)"
   ]
  },
  {
   "cell_type": "code",
   "execution_count": 14,
   "metadata": {},
   "outputs": [
    {
     "data": {
      "text/plain": [
       "(['a', 's', 't', '\\n', 't', 'i', 'm', 'e', ' ', 'o'], 'n')"
      ]
     },
     "execution_count": 14,
     "metadata": {},
     "output_type": "execute_result"
    }
   ],
   "source": [
    "data[3]"
   ]
  },
  {
   "cell_type": "code",
   "execution_count": null,
   "metadata": {},
   "outputs": [],
   "source": []
  }
 ],
 "metadata": {
  "kernelspec": {
   "display_name": "ml-0451",
   "language": "python",
   "name": "python3"
  },
  "language_info": {
   "codemirror_mode": {
    "name": "ipython",
    "version": 3
   },
   "file_extension": ".py",
   "mimetype": "text/x-python",
   "name": "python",
   "nbconvert_exporter": "python",
   "pygments_lexer": "ipython3",
   "version": "3.9.15"
  },
  "orig_nbformat": 4
 },
 "nbformat": 4,
 "nbformat_minor": 2
}
