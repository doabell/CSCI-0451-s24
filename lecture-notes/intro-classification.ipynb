{
 "cells": [
  {
   "cell_type": "raw",
   "metadata": {},
   "source": [
    "---\n",
    "title: Introduction to Classification and Auditing\n",
    "author: Phil Chodrow\n",
    "format: \n",
    "  html: \n",
    "    code-fold: true\n",
    "    cache: true\n",
    "    callout:\n",
    "---"
   ]
  },
  {
   "attachments": {},
   "cell_type": "markdown",
   "metadata": {},
   "source": [
    "## Supervised Learning\n",
    "\n",
    "In this lecture, we'll make our first acquaintance to the *classification* task. Classification is a form of *supervised* machine learning. Here's the big-picture version of the supervised ML task. \n",
    "\n",
    "We are given: \n",
    "\n",
    "- A set of observations of **predictor variables**. We'll call the $i$th such observation $\\mathbf{x}_i$. We write it this way because $\\mathbf{x}_i$ is usually a *vector* of multiple variables, often called *features* or *covariates*. We often collect these observations into a matrix $\\mathbf{X} \\in \\mathbb{R}^{n \\times p}$, where $n$ is the number of observations and $p$ is the total number of features. \n",
    "- A set of observations of a single **target variable**. We'll call the $i$th such observation $y_i$. We write it this way because (at least in this course) $y_i$ will always be a scalar number, rather than a vector. We can collect these observations into a (column) vector $\\mathbf{y} \\in \\mathbb{R}^n$. \n",
    "- We can refer to a single observation as a pair $(\\mathbf{x}_i, y_i)$. \n",
    "\n",
    "Big picture, the supervised machine learning task is to use $\\mathbf{X}$ and $\\mathbf{y}$ to find a function $f:\\mathbb{R}^p \\rightarrow \\mathbb{R}$ with the property that \n",
    "\n",
    "$$\n",
    "f(\\mathbf{x}) \\approx y\n",
    "$$ \n",
    "\n",
    "[What does it mean for $$f(\\mathbf{x}) \\approx y$$? This requires mathematical fleshing-out that we'll do very soon.]{.aside}\n",
    "\n",
    "for *new* observations $(\\mathbf{x}, y)$. We can think of the function $f$ as an expression of the (unknown) *relationship* between the features $\\mathbf{x}$ and the target $y$. If we can find an approximation of that pattern, then we'll have the ability to make predictions. \n",
    "\n",
    "We often use $\\hat{y} = f(\\mathbf{x})$ to denote the predicted value for $y$ based on $\\mathbf{x}$. So, we want to choose $f$ so that $\\hat{y} \\approx y$. \n",
    "\n",
    "\n",
    "## Classification\n",
    "\n",
    "We use the vector $\\mathbf{y}$ to hold our observations of the target variable. We have assumed that each observation of the target variable is a real number (i.e. an element of $\\mathbb{R}$). This looks reasonable for when the thing we want to predictive is a real number (like a stock price or a probability to like a post), but what about when we want to predict a categorical label? In this case, we can simply encode labels using integers: $0$ for one category, $1$ for the next category, $2$ for the one after that, and so on. \n",
    "\n",
    "## The COMPAS Recidivism Prediction Algorithm\n",
    "\n",
    "Criminal *recidivism* occurs when a person is convicted of a crime, completes the legal terms of their punishment, and is then convicted of *another* crime after release. In the American penal system, predictions of recidivism play a role in determining whether or not a defendant will be released on bail before trial or granted parole after serving a portion of a prison sentence. In other words, the belief of the court about whether a person is *likely to commit a future crime* can have concrete consequences for that person's current and future freedom. Of course, it's difficult for a human to predict whether a defendant is likely to commit a future crime. Furthermore, humans are subject to bias. Wouldn't it be nice if we could use a machine learning algorithm to make this prediction for us? \n",
    "\n",
    "In 2016, the journalism website [ProPublica](https://www.propublica.org/) published an [investigative story](https://www.propublica.org/article/machine-bias-risk-assessments-in-criminal-sentencing) on COMPAS, a machine learning algorithm used to predict recidivism in Broward County, Florida. They obtained data for criminal defendants in Broward County in the years 2013 and 2014. These data include the COMPAS predictions, as well as demographic information (like age, gender, and race) and legal information (e.g. the crime with which the defendant was charged). The data also include an indicator of whether or not the defendant went on to be arrested of a crime within the two years following their initial trial. \n",
    "\n",
    "[The COMPAS algorithm actually uses information about the defendant beyond what is shown in this table; here is [an example](https://www.documentcloud.org/documents/2702103-Sample-Risk-Assessment-COMPAS-CORE.html) of the survey used for COMPAS to form its prediction.]{.aside}\n",
    "\n",
    "\n",
    "::: {.callout-tip}\n",
    "\n",
    "## Activity\n",
    "\n",
    "Here are three concepts: \n",
    "\n",
    "- Demographic data and legal information related to a defendant. \n",
    "- Whether or not the defendant proceeds to be arrested for a crime within the two years following their initial trial. \n",
    "- The COMPAS algorithm. \n",
    "\n",
    "Match these three concepts to the three mathematical symbols in the relationship \n",
    "\n",
    "$$f(\\mathbf{x}) \\approx y$$. \n",
    "\n",
    ":::"
   ]
  },
  {
   "attachments": {},
   "cell_type": "markdown",
   "metadata": {},
   "source": [
    "Let's look at an excerpt of the data that ProPublica obtained. I have chosen only a subset of the columns and I have filtered out some of the rows as well. The hidden code saves the data in a `pandas.DataFrame` called `df`, and then views it. \n",
    "\n",
    "[Click the little arrow to the right to view the code I used to display this table.]{.aside}"
   ]
  },
  {
   "cell_type": "code",
   "execution_count": 29,
   "metadata": {},
   "outputs": [
    {
     "data": {
      "text/html": [
       "<div>\n",
       "<style scoped>\n",
       "    .dataframe tbody tr th:only-of-type {\n",
       "        vertical-align: middle;\n",
       "    }\n",
       "\n",
       "    .dataframe tbody tr th {\n",
       "        vertical-align: top;\n",
       "    }\n",
       "\n",
       "    .dataframe thead th {\n",
       "        text-align: right;\n",
       "    }\n",
       "</style>\n",
       "<table border=\"1\" class=\"dataframe\">\n",
       "  <thead>\n",
       "    <tr style=\"text-align: right;\">\n",
       "      <th></th>\n",
       "      <th>race</th>\n",
       "      <th>age</th>\n",
       "      <th>compas_prediction</th>\n",
       "      <th>two_year_recid</th>\n",
       "    </tr>\n",
       "  </thead>\n",
       "  <tbody>\n",
       "    <tr>\n",
       "      <th>0</th>\n",
       "      <td>African-American</td>\n",
       "      <td>34</td>\n",
       "      <td>0</td>\n",
       "      <td>1</td>\n",
       "    </tr>\n",
       "    <tr>\n",
       "      <th>1</th>\n",
       "      <td>African-American</td>\n",
       "      <td>24</td>\n",
       "      <td>0</td>\n",
       "      <td>1</td>\n",
       "    </tr>\n",
       "    <tr>\n",
       "      <th>2</th>\n",
       "      <td>Caucasian</td>\n",
       "      <td>41</td>\n",
       "      <td>1</td>\n",
       "      <td>1</td>\n",
       "    </tr>\n",
       "    <tr>\n",
       "      <th>3</th>\n",
       "      <td>Caucasian</td>\n",
       "      <td>39</td>\n",
       "      <td>0</td>\n",
       "      <td>0</td>\n",
       "    </tr>\n",
       "    <tr>\n",
       "      <th>4</th>\n",
       "      <td>Caucasian</td>\n",
       "      <td>27</td>\n",
       "      <td>0</td>\n",
       "      <td>0</td>\n",
       "    </tr>\n",
       "    <tr>\n",
       "      <th>...</th>\n",
       "      <td>...</td>\n",
       "      <td>...</td>\n",
       "      <td>...</td>\n",
       "      <td>...</td>\n",
       "    </tr>\n",
       "    <tr>\n",
       "      <th>5273</th>\n",
       "      <td>African-American</td>\n",
       "      <td>30</td>\n",
       "      <td>0</td>\n",
       "      <td>1</td>\n",
       "    </tr>\n",
       "    <tr>\n",
       "      <th>5274</th>\n",
       "      <td>African-American</td>\n",
       "      <td>20</td>\n",
       "      <td>1</td>\n",
       "      <td>0</td>\n",
       "    </tr>\n",
       "    <tr>\n",
       "      <th>5275</th>\n",
       "      <td>African-American</td>\n",
       "      <td>23</td>\n",
       "      <td>1</td>\n",
       "      <td>0</td>\n",
       "    </tr>\n",
       "    <tr>\n",
       "      <th>5276</th>\n",
       "      <td>African-American</td>\n",
       "      <td>23</td>\n",
       "      <td>0</td>\n",
       "      <td>0</td>\n",
       "    </tr>\n",
       "    <tr>\n",
       "      <th>5277</th>\n",
       "      <td>African-American</td>\n",
       "      <td>33</td>\n",
       "      <td>0</td>\n",
       "      <td>0</td>\n",
       "    </tr>\n",
       "  </tbody>\n",
       "</table>\n",
       "<p>5278 rows × 4 columns</p>\n",
       "</div>"
      ],
      "text/plain": [
       "                  race  age  compas_prediction  two_year_recid\n",
       "0     African-American   34                  0               1\n",
       "1     African-American   24                  0               1\n",
       "2            Caucasian   41                  1               1\n",
       "3            Caucasian   39                  0               0\n",
       "4            Caucasian   27                  0               0\n",
       "...                ...  ...                ...             ...\n",
       "5273  African-American   30                  0               1\n",
       "5274  African-American   20                  1               0\n",
       "5275  African-American   23                  1               0\n",
       "5276  African-American   23                  0               0\n",
       "5277  African-American   33                  0               0\n",
       "\n",
       "[5278 rows x 4 columns]"
      ]
     },
     "execution_count": 29,
     "metadata": {},
     "output_type": "execute_result"
    }
   ],
   "source": [
    "import pandas as pd\n",
    "import seaborn as sns\n",
    "\n",
    "df = pd.read_csv(\"https://github.com/middlebury-csci-0451/CSCI-0451/raw/main/data/compas-scores-two-years.csv\")\n",
    "\n",
    "# filtering as in the original analysis by ProPublica\n",
    "# https://github.com/propublica/compas-analysis/blob/master/Compas%20Analysis.ipynb\n",
    "\n",
    "df = df[df.days_b_screening_arrest <= 30]\n",
    "df = df[df.days_b_screening_arrest >= -30]\n",
    "df = df[df.is_recid != -1]\n",
    "df = df[df.c_charge_degree != \"O\"]\n",
    "df = df[df.score_text != \"NA\"]\n",
    "df = df[(df.race == \"African-American\") | (df.race == \"Caucasian\")]\n",
    "\n",
    "col_list = df.columns\n",
    "\n",
    "df[\"compas_prediction\"] = 1*(df.score_text != \"Low\")\n",
    "df = df.reset_index()\n",
    "cols = [\"race\", \"age\", \"compas_prediction\", \"two_year_recid\"]\n",
    "df = df[cols]\n",
    "\n",
    "df"
   ]
  },
  {
   "attachments": {},
   "cell_type": "markdown",
   "metadata": {},
   "source": [
    "The column `compas_prediction` is the COMPAS algorithm's prediction of whether the individual will be arrested again. \n",
    "\n",
    "- `0` means \"no:\" according to COMPAS, the individual does not have an elevated risk to be arrested for a crime within the next two years. \n",
    "- `1` means \"yes:\" according to COMPAS, the individual does have an elevated risk to be arrested for a crime within the next two years. \n",
    "\n",
    " where `0` means  The column `two_year_recid` records the actual outcome: `0` means \"no,\" the individual was not arrested within the next two years, while `1` means \"yes,\" the individual was arrested within the next two years.  \n",
    "\n",
    " There are a number of other columns that I  have omitted, including the defendant name, the severity of the criminal charge, whether or not the charge is for a violent crime, presence of a prior record, sex, and other information. "
   ]
  },
  {
   "attachments": {},
   "cell_type": "markdown",
   "metadata": {},
   "source": [
    "::: {.callout-tip}\n",
    "\n",
    "## Discussion\n",
    "\n",
    "Take some time to look at the excerpted data set and my description of it. What *questions* do you have when you look at the data? Try to find at least two questions about: \n",
    "\n",
    "- How the data was collected/gathered/presented by me. \n",
    "- What patterns might be present in the data? What concerns might you have that you would want to check? \n",
    "\n",
    ":::\n"
   ]
  },
  {
   "attachments": {},
   "cell_type": "markdown",
   "metadata": {},
   "source": [
    "## Evaluating Classification Algorithms\n",
    "\n",
    "Was COMPAS *successful* at making its predictions? There are lots of ways to assess this. \n",
    "\n",
    "### Overall Accuracy\n",
    "\n",
    "One way is the *overall accuracy* of the predictions: how often was it the case that the predictions were correct? The code below computes the proportion of the time that the COMPAS prediction matched reality: "
   ]
  },
  {
   "cell_type": "code",
   "execution_count": 31,
   "metadata": {},
   "outputs": [
    {
     "data": {
      "text/plain": [
       "0.6582038651004168"
      ]
     },
     "execution_count": 31,
     "metadata": {},
     "output_type": "execute_result"
    }
   ],
   "source": [
    "#| code-fold: false\n",
    "\n",
    "df[\"accurate\"] = df[\"compas_prediction\"] == df[\"two_year_recid\"]\n",
    "df[\"accurate\"].mean()"
   ]
  },
  {
   "attachments": {},
   "cell_type": "markdown",
   "metadata": {},
   "source": [
    "Is this a good result? We can compare it to the performance of a hypothetical algorithm that simply always predicted that the individual would *not* reoffend. "
   ]
  },
  {
   "cell_type": "code",
   "execution_count": 33,
   "metadata": {},
   "outputs": [
    {
     "data": {
      "text/plain": [
       "0.5295566502463054"
      ]
     },
     "execution_count": 33,
     "metadata": {},
     "output_type": "execute_result"
    }
   ],
   "source": [
    "(1-df[\"two_year_recid\"]).mean()"
   ]
  },
  {
   "attachments": {},
   "cell_type": "markdown",
   "metadata": {},
   "source": [
    "This is an example of comparing against a *base rate*. There's no formal definition of a base rate, but you can think of it as the performance of the best approach to the problem that doesn't involve anything fancy. Here, the base rate is 53% and the accuracy of COMPAS is 66%, indicating that the COMPAS algorithm is significantly outperforming the base rate. \n",
    "\n",
    "## Classification Rates\n",
    "\n",
    "While accuracy is a useful metric for classification problems, it's useful to break it down in more detailed ways. In the case of binary classification, there are four cases: \n",
    "\n",
    "[Recall that $\\hat{y}$ is just another name for $f(\\mathbf{x})$, the predicted value of $y$ based on $\\mathbf{x}$.]{.aside}\n",
    "\n",
    "- If $y = 1$ and $\\hat{y} = 1$, we have a *true positive*. \n",
    "- If $y = 0$ and $\\hat{y} = 1$, we have a *false positive*. \n",
    "- If $y = 1$ and $\\hat{y} = 0$, we have a *false negative*. \n",
    "- If $y = 0$ and $\\hat{y} = 0$, we have a *true negative*. \n",
    "\n",
    "The *false positive rate* is the fraction of all negative events for which the prediction is positive: \n",
    "\n",
    "[Here $\\mathbb{1}$ is the *indicator function* that is 1 if its arguments all evaluate to true and 0 otherwise.]{.aside}\n",
    "\n",
    "$$\\mathrm{FPR}(\\mathbf{y}, \\hat{\\mathbf{y}}) = \\frac{\\sum_{i=1}^n \\mathbb{1}(\\hat{y}_i = 1, y_i = 0)}{\\sum_{i = 1}^n \\mathbb{1}(y_i = 0)}$$\n",
    "\n",
    "We can calculate the FPR like this: [`numpy` boolean arrays and `pandas` boolean columns can be multiplied to do entrywise Boolean `and`.]{.aside}"
   ]
  },
  {
   "cell_type": "code",
   "execution_count": 41,
   "metadata": {},
   "outputs": [],
   "source": [
    "#| code-fold: show\n",
    "def FPR(y, y_hat):\n",
    "    return sum((y_hat == 1)*(y == 0))/sum(y == 0) "
   ]
  },
  {
   "attachments": {},
   "cell_type": "markdown",
   "metadata": {},
   "source": [
    "One can also define the False Negative Rate, True Positive Rate, and True Negative Rate. Let's also do the False Negative Rate: "
   ]
  },
  {
   "cell_type": "code",
   "execution_count": 43,
   "metadata": {},
   "outputs": [],
   "source": [
    "#| code-fold: show\n",
    "def FNR(y, y_hat):\n",
    "    return sum((y_hat == 0)*(y == 1))/sum(y == 1) "
   ]
  },
  {
   "cell_type": "code",
   "execution_count": 44,
   "metadata": {},
   "outputs": [
    {
     "data": {
      "text/plain": [
       "(0.3302325581395349, 0.35481272654047524)"
      ]
     },
     "execution_count": 44,
     "metadata": {},
     "output_type": "execute_result"
    }
   ],
   "source": [
    "#| code-fold: show\n",
    "y = df[\"two_year_recid\"]\n",
    "y_hat = df[\"compas_prediction\"]\n",
    "FPR(y, y_hat), FNR(y, y_hat)"
   ]
  },
  {
   "attachments": {},
   "cell_type": "markdown",
   "metadata": {},
   "source": [
    "In other words: \n",
    "\n",
    "- Of people who were not arrested within two years, the COMPAS algorithm wrongly predicted that 33% of them would be arrested within two years (but correctly predicted that 67% of them would not be). \n",
    "- Of people who were arrested within two years, the COMPAS algorithm wrongly predicted that 35% of them would not be arrested within two years (but correctly predicted that 65% of them would be). "
   ]
  },
  {
   "cell_type": "code",
   "execution_count": 57,
   "metadata": {},
   "outputs": [
    {
     "name": "stdout",
     "output_type": "stream",
     "text": [
      "False positive rates\n",
      "race\n",
      "African-American    0.423382\n",
      "Caucasian           0.220141\n",
      "dtype: float64\n",
      "\n",
      "False negative rates\n",
      "race\n",
      "African-American    0.284768\n",
      "Caucasian           0.496350\n",
      "dtype: float64\n",
      "\n"
     ]
    }
   ],
   "source": [
    "#| code-fold: show\n",
    "\n",
    "for label, fun in {\"False positive rates\": FPR, \"False negative rates\" : FNR}.items():\n",
    "    print(label)\n",
    "    print(df.groupby(\"race\").apply(lambda df: fun(df[\"two_year_recid\"], df[\"compas_prediction\"])))\n",
    "    print(\"\")"
   ]
  }
 ],
 "metadata": {
  "kernelspec": {
   "display_name": "ml-0451",
   "language": "python",
   "name": "python3"
  },
  "language_info": {
   "codemirror_mode": {
    "name": "ipython",
    "version": 3
   },
   "file_extension": ".py",
   "mimetype": "text/x-python",
   "name": "python",
   "nbconvert_exporter": "python",
   "pygments_lexer": "ipython3",
   "version": "3.9.15"
  },
  "orig_nbformat": 4,
  "vscode": {
   "interpreter": {
    "hash": "debe06cc0f9553f110b64dc3926c05df82dae2145b852c8422b9c04315589dcb"
   }
  }
 },
 "nbformat": 4,
 "nbformat_minor": 2
}
